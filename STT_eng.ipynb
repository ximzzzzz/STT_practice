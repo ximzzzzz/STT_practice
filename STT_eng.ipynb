{
  "nbformat": 4,
  "nbformat_minor": 0,
  "metadata": {
    "colab": {
      "name": "발음_기호_예측_베이스라인_코드.ipynb의 사본",
      "provenance": [],
      "collapsed_sections": []
    },
    "kernelspec": {
      "display_name": "Python 3",
      "name": "python3"
    },
    "accelerator": "GPU"
  },
  "cells": [
    {
      "cell_type": "markdown",
      "metadata": {
        "id": "5OXPUVa9EsiK"
      },
      "source": [
        "# 발음기호 예측 베이스라인 코드(Deepspeech2 기반)"
      ]
    },
    {
      "cell_type": "markdown",
      "metadata": {
        "id": "lWz2SzZoE0bA"
      },
      "source": [
        "참고자료1 - https://arxiv.org/abs/1512.02595<br>\n",
        "\n",
        "참고자료2 - https://www.assemblyai.com/blog/end-to-end-speech-recognition-pytorch"
      ]
    },
    {
      "cell_type": "markdown",
      "metadata": {
        "id": "DFaQ511YRLc6"
      },
      "source": [
        "DeepSpeech2는 Baidu에서 개발한 End-to-End STT 알고리즘입니다.<br>해당 모델을 학습시켜 대회데이터에 예측과 제출까지 해보는 베이스라인 코드를 초보자도 쉽게 이해할 수 있도록 작성하였습니다."
      ]
    },
    {
      "cell_type": "markdown",
      "metadata": {
        "id": "EOyNlMcYE6o6"
      },
      "source": [
        "# 필요 패키지 install 및 import"
      ]
    },
    {
      "cell_type": "code",
      "metadata": {
        "colab": {
          "base_uri": "https://localhost:8080/"
        },
        "id": "iRcttaZNdWze",
        "outputId": "c85149bf-fcbe-44a0-d34b-212ac3ab8221"
      },
      "source": [
        "# 패키지 인스톨\n",
        "!pip install torchaudio==0.4.0 torch==1.4.0 comet-ml==3.0.2 eng_to_ipa"
      ],
      "execution_count": 1,
      "outputs": [
        {
          "output_type": "stream",
          "text": [
            "Requirement already satisfied: torchaudio==0.4.0 in /usr/local/lib/python3.6/dist-packages (0.4.0)\n",
            "Requirement already satisfied: torch==1.4.0 in /usr/local/lib/python3.6/dist-packages (1.4.0)\n",
            "Requirement already satisfied: comet-ml==3.0.2 in /usr/local/lib/python3.6/dist-packages (3.0.2)\n",
            "Requirement already satisfied: eng_to_ipa in /usr/local/lib/python3.6/dist-packages (0.0.2)\n",
            "Requirement already satisfied: wurlitzer>=1.0.2 in /usr/local/lib/python3.6/dist-packages (from comet-ml==3.0.2) (2.0.1)\n",
            "Requirement already satisfied: websocket-client>=0.55.0 in /usr/local/lib/python3.6/dist-packages (from comet-ml==3.0.2) (0.57.0)\n",
            "Requirement already satisfied: comet-git-pure>=0.19.11 in /usr/local/lib/python3.6/dist-packages (from comet-ml==3.0.2) (0.19.16)\n",
            "Requirement already satisfied: six in /usr/local/lib/python3.6/dist-packages (from comet-ml==3.0.2) (1.15.0)\n",
            "Requirement already satisfied: jsonschema<3.1.0,>=2.6.0 in /usr/local/lib/python3.6/dist-packages (from comet-ml==3.0.2) (2.6.0)\n",
            "Requirement already satisfied: nvidia-ml-py3>=7.352.0 in /usr/local/lib/python3.6/dist-packages (from comet-ml==3.0.2) (7.352.0)\n",
            "Requirement already satisfied: everett[ini]>=1.0.1; python_version >= \"3.0\" in /usr/local/lib/python3.6/dist-packages (from comet-ml==3.0.2) (1.0.3)\n",
            "Requirement already satisfied: requests>=2.18.4 in /usr/local/lib/python3.6/dist-packages (from comet-ml==3.0.2) (2.23.0)\n",
            "Requirement already satisfied: netifaces>=0.10.7 in /usr/local/lib/python3.6/dist-packages (from comet-ml==3.0.2) (0.10.9)\n",
            "Requirement already satisfied: urllib3>=1.24.1 in /usr/local/lib/python3.6/dist-packages (from comet-git-pure>=0.19.11->comet-ml==3.0.2) (1.24.3)\n",
            "Requirement already satisfied: certifi in /usr/local/lib/python3.6/dist-packages (from comet-git-pure>=0.19.11->comet-ml==3.0.2) (2020.12.5)\n",
            "Requirement already satisfied: configobj; extra == \"ini\" in /usr/local/lib/python3.6/dist-packages (from everett[ini]>=1.0.1; python_version >= \"3.0\"->comet-ml==3.0.2) (5.0.6)\n",
            "Requirement already satisfied: idna<3,>=2.5 in /usr/local/lib/python3.6/dist-packages (from requests>=2.18.4->comet-ml==3.0.2) (2.10)\n",
            "Requirement already satisfied: chardet<4,>=3.0.2 in /usr/local/lib/python3.6/dist-packages (from requests>=2.18.4->comet-ml==3.0.2) (3.0.4)\n"
          ],
          "name": "stdout"
        }
      ]
    },
    {
      "cell_type": "code",
      "metadata": {
        "id": "2J_Ry1ztda6V"
      },
      "source": [
        "# 패키지 임포트\n",
        "\n",
        "import os\n",
        "import eng_to_ipa as ipa\n",
        "import torch\n",
        "import torch.nn as nn\n",
        "import torch.utils.data as data\n",
        "import torch.optim as optim\n",
        "import torch.nn.functional as F\n",
        "import torchaudio\n",
        "import numpy as np\n",
        "from comet_ml import Experiment ##\n",
        "import pandas as pd"
      ],
      "execution_count": 2,
      "outputs": []
    },
    {
      "cell_type": "markdown",
      "metadata": {
        "id": "iOnO2FJnFq-e"
      },
      "source": [
        "# 폴더 설정 및 생성"
      ]
    },
    {
      "cell_type": "code",
      "metadata": {
        "colab": {
          "base_uri": "https://localhost:8080/"
        },
        "id": "PgnekMlEdgNk",
        "outputId": "f551d1d7-b3f7-4190-c365-27b27158cc97"
      },
      "source": [
        "# 본인 구글 드라이브와 연결한다.\n",
        "from google.colab import drive\n",
        "drive.mount('/gdrive')"
      ],
      "execution_count": 3,
      "outputs": [
        {
          "output_type": "stream",
          "text": [
            "Drive already mounted at /gdrive; to attempt to forcibly remount, call drive.mount(\"/gdrive\", force_remount=True).\n"
          ],
          "name": "stdout"
        }
      ]
    },
    {
      "cell_type": "code",
      "metadata": {
        "id": "KnPk-nCxdgCE"
      },
      "source": [
        "# 현재 디렉토리에 \"data\"라는 폴더를 생성합니다.\n",
        "if not os.path.isdir(\"./data\"):\n",
        "  os.makedirs(\"./data\")"
      ],
      "execution_count": 4,
      "outputs": []
    },
    {
      "cell_type": "markdown",
      "metadata": {
        "id": "G8wv95afHJFj"
      },
      "source": [
        "# Evaluation metric 설정"
      ]
    },
    {
      "cell_type": "markdown",
      "metadata": {
        "id": "cbCqJMK-VI_t"
      },
      "source": [
        "자체 평가를 위한 여러 함수 정의\n",
        "1. _levenshtein_distance = 두 문자열의 차이를 측정하기 위한 메트릭\n",
        "\n",
        "2. cer = character error rate(stt 모델에서 흔히 사용하는 메트릭임 - http://blog.atlaslabs.ai/all/tech/105/)\n",
        "\n",
        "3. wer = word error rate(stt 모델에서 흔히 사용하는 메트릭임 - https://docs.microsoft.com/ko-kr/azure/cognitive-services/speech-service/how-to-custom-speech-evaluate-data)\n"
      ]
    },
    {
      "cell_type": "code",
      "metadata": {
        "id": "71jfAYNzelYg"
      },
      "source": [
        "def _levenshtein_distance(ref, hyp):\n",
        "    \"\"\"Levenshtein 거리는 두 문자열의 차이를 측정하기 위한 메트릭이다.\n",
        "      구체적으로는 두 문자열 s1,s2이 있다고 했을 때,\n",
        "      s1을 s2로 변경하는 데 필요한 단어의 삭제, 삽입, 대체 등의 작업의 총 갯수이다.\"\"\"\n",
        "    m = len(ref)\n",
        "    n = len(hyp)\n",
        "\n",
        "    if ref == hyp:\n",
        "        return 0\n",
        "    if m == 0:\n",
        "        return n\n",
        "    if n == 0:\n",
        "        return m\n",
        "\n",
        "    if m < n:\n",
        "        ref, hyp = hyp, ref\n",
        "        m, n = n, m\n",
        "\n",
        "    distance = np.zeros((2, n + 1), dtype=np.int32)\n",
        "\n",
        "    for j in range(0,n + 1):\n",
        "        distance[0][j] = j\n",
        "\n",
        "    for i in range(1, m + 1):\n",
        "        prev_row_idx = (i - 1) % 2\n",
        "        cur_row_idx = i % 2\n",
        "        distance[cur_row_idx][0] = i\n",
        "        for j in range(1, n + 1):\n",
        "            if ref[i - 1] == hyp[j - 1]:\n",
        "                distance[cur_row_idx][j] = distance[prev_row_idx][j - 1]\n",
        "            else:\n",
        "                s_num = distance[prev_row_idx][j - 1] + 1\n",
        "                i_num = distance[cur_row_idx][j - 1] + 1\n",
        "                d_num = distance[prev_row_idx][j] + 1\n",
        "                distance[cur_row_idx][j] = min(s_num, i_num, d_num)\n",
        "\n",
        "    return distance[m % 2][n]\n",
        "\n",
        "def cer(reference, hypothesis):\n",
        "    \"\"\"Character Error Rate을 계산하는 코드\"\"\"\n",
        "\n",
        "    reference = reference.lower()\n",
        "    hypothesis = hypothesis.lower()\n",
        "\n",
        "    edit_distance = _levenshtein_distance(reference, hypothesis)\n",
        "    ref_len = len(reference)\n",
        "\n",
        "    if ref_len == 0:\n",
        "        raise ValueError(\"Length of reference should be greater than 0.\")\n",
        "\n",
        "    cer = float(edit_distance) / ref_len\n",
        "    return cer\n",
        "\n",
        "def wer(reference, hypothesis, delimiter=' '):\n",
        "    \"\"\"Word Error Rate을 계산하는 코드\"\"\"\n",
        "\n",
        "    reference = reference.lower()\n",
        "    hypothesis = hypothesis.lower()\n",
        "\n",
        "    ref_words = reference.split(delimiter)\n",
        "    hyp_words = hypothesis.split(delimiter)\n",
        "\n",
        "    edit_distance = _levenshtein_distance(ref_words, hyp_words)\n",
        "\n",
        "    edit_distance = float(edit_distance)\n",
        "    ref_len = len(ref_words)\n",
        "\n",
        "    if ref_len == 0:\n",
        "        raise ValueError(\"Reference's word number should be greater than 0.\")\n",
        "\n",
        "    wer = float(edit_distance) / ref_len\n",
        "    return wer"
      ],
      "execution_count": 5,
      "outputs": []
    },
    {
      "cell_type": "markdown",
      "metadata": {
        "id": "XQSCLGcZHXfy"
      },
      "source": [
        "# 캐릭터를 숫자로 매핑하기 위한 Class 지정"
      ]
    },
    {
      "cell_type": "code",
      "metadata": {
        "id": "Bxr95gjbzbtG"
      },
      "source": [
        "import string"
      ],
      "execution_count": 6,
      "outputs": []
    },
    {
      "cell_type": "code",
      "metadata": {
        "id": "HjTNh9RziC2p"
      },
      "source": [
        "class TextTransform:\n",
        "    \"\"\"캐릭터를 숫자로 매핑하는 용도\"\"\"\n",
        "    def __init__(self):\n",
        "        self.char_map = {v:k+2 for k, v in enumerate(string.ascii_lowercase)} #character를 집어넣으면 숫자가 리턴\n",
        "        self.index_map = {k+2:v for k, v in enumerate(string.ascii_lowercase)} #숫자를 집어넣으면 character가 리턴\n",
        "        self.index_map[0] = ' '\n",
        "        self.index_map[1] = \"'\"\n",
        "        self.char_map[' '] = 0\n",
        "        self.char_map[\"'\"] = 1\n",
        "\n",
        "    def text_to_int(self, text):\n",
        "        \"\"\" 텍스트를 숫자로 매핑하는 함수 \"\"\"\n",
        "        int_sequence = []\n",
        "        for c in text:\n",
        "            ch = self.char_map[c]\n",
        "            int_sequence.append(ch)\n",
        "        return int_sequence\n",
        "\n",
        "    def int_to_text(self, labels):\n",
        "        \"\"\" 숫자를 텍스트로 매핑하는 함수 \"\"\"\n",
        "        string = []\n",
        "        for i in labels:\n",
        "            string.append(self.index_map[i])\n",
        "        return ''.join(string)"
      ],
      "execution_count": 7,
      "outputs": []
    },
    {
      "cell_type": "code",
      "metadata": {
        "id": "E2PEomCcIG3C"
      },
      "source": [
        "text_transform = TextTransform()"
      ],
      "execution_count": 8,
      "outputs": []
    },
    {
      "cell_type": "markdown",
      "metadata": {
        "id": "YyADXG0PHinQ"
      },
      "source": [
        "# SpecAugment를 위한 변환 함수 정의"
      ]
    },
    {
      "cell_type": "markdown",
      "metadata": {
        "id": "CDfd8TqUTXb0"
      },
      "source": [
        "SpecAugment란 음성 데이터의 data augmentation 기법의 일종으로...\n",
        "\n",
        "시간과 주파수를 무작위로 단순히 잘라냅니다.\n",
        "\n",
        "놀랍게도 이런 단순한 방식으로도 stt 모델의 오버피팅을 막을 수 있습니다.\n",
        "\n",
        "https://arxiv.org/abs/1904.08779"
      ]
    },
    {
      "cell_type": "code",
      "metadata": {
        "id": "6qtB3d5oiFWt"
      },
      "source": [
        "train_audio_transforms = nn.Sequential(\n",
        "    torchaudio.transforms.MelSpectrogram(sample_rate=16000, n_mels=128), # Spectogram(푸리에 변환), 푸리에 변환을 적용하면 각 진동수 성분이 그 음성에 얼마나 들어있는지 알 수 있습니다.\n",
        "    torchaudio.transforms.FrequencyMasking(freq_mask_param=15), #frequency를 가린다(specaugment의 일환)\n",
        "    torchaudio.transforms.TimeMasking(time_mask_param=35) #time을 가린다(specaugment의 일환)\n",
        ")\n",
        "\n",
        "valid_audio_transforms = torchaudio.transforms.MelSpectrogram() # Spectogram(푸리에 변환), 푸리에 변환을 적용하면 각 진동수 성분이 그 음성에 얼마나 들어있는지 알 수 있습니다.\n",
        "\n",
        "# train 데이터에는 specaugment를 적용하고 valid 데이터에는 적용하지 않는다."
      ],
      "execution_count": 10,
      "outputs": []
    },
    {
      "cell_type": "code",
      "metadata": {
        "id": "L86pzs4HGKib"
      },
      "source": [
        "train_audio_transforms = nn.Sequential(\r\n",
        "    torchaudio.transforms.MelSpectrogram(sample_rate= 16000, n_mels=128),\r\n",
        "    torchaudio.transforms.FrequencyMasking(freq_mask_param=15),\r\n",
        "    torchaudio.transforms.TimeMasking(time_mask_param=35)\r\n",
        ")\r\n",
        "\r\n",
        "valid_audio_transforms = torchaudio.transforms.MelSpectrogram()"
      ],
      "execution_count": 11,
      "outputs": []
    },
    {
      "cell_type": "markdown",
      "metadata": {
        "id": "CKDzmbBoIZO9"
      },
      "source": [
        "# 데이터 변환을 위한 _processing 함수 정의"
      ]
    },
    {
      "cell_type": "markdown",
      "metadata": {
        "id": "7fHcvpwoSDxr"
      },
      "source": [
        "우리는 본 튜토리얼에서 librispeech 데이터셋을 활용할 것입니다.\n",
        "\n",
        "librispeech 데이터셋 특성상 라벨링 데이터가 알파벳으로 구성되어 있기 때문에, 발음기호를 예측하는 본 대회에서는 그대로 활용할 수는 없습니다.\n",
        "\n",
        "따라서 발음기호로 변환해 새로운 라벨링 데이터를 생성해야 합니다.\n",
        "\n",
        "변환 방법은 아래 링크에서 보실 수 있습니다.\n",
        "\n",
        "https://bit.ly/3nADIUX"
      ]
    },
    {
      "cell_type": "code",
      "metadata": {
        "id": "IVIT6GYFiZKc"
      },
      "source": [
        "def train_processing(data):\n",
        "    spectrograms = [] # 음성 데이터를 append하는 리스트\n",
        "    labels = [] # 텍스트를 숫자로 바꾼 결과물을 append하는 리스트\n",
        "    input_lengths = [] # 음성 데이터의 길이를 2로 나눈 값을 append하는 리스트\n",
        "    label_lengths = [] # 텍스트의 길이를 append하는 리스트\n",
        "    for (waveform, _, utterance, _, _, _) in data:\n",
        "        spec = train_audio_transforms(waveform).squeeze(0).transpose(0, 1) # 차원을 하나 없애고 역을 취한다(원래는 시간축이 뒤에 있었는데,,, 역을 취하여 앞에 가도록 바꾼다).\n",
        "        spectrograms.append(spec)\n",
        "\n",
        "        utterance = utterance.lower().replace('ˈ','').replace('ˌ','').replace('*','')\n",
        "        label = torch.Tensor(text_transform.text_to_int(utterance))\n",
        "        labels.append(label)\n",
        "        input_lengths.append(spec.shape[0]//2)\n",
        "        label_lengths.append(len(label))\n",
        "\n",
        "    spectrograms = nn.utils.rnn.pad_sequence(spectrograms, batch_first=True) # 소리의 길이가 다르므로 하나의 Tensor로 만들기 위하여 padding을 진행하고 Tensor로 만든다.\n",
        "    spectrograms = spectrograms.unsqueeze(1) # 차원을 하나 더 붙힌다.\n",
        "    spectrograms = spectrograms.transpose(2, 3) # transpose를 한다. (배치 크기, 1, feature크기, 음성길이)로 만들었다.\n",
        "    labels = nn.utils.rnn.pad_sequence(labels, batch_first=True) # 라벨의 길이가 다르므로 하나의 Tensor로 만들기 위하여 padding을 진행하고 Tensor로 만든다.\n",
        "\n",
        "    return spectrograms, labels, input_lengths, label_lengths\n",
        "\n",
        "def val_processing(data):\n",
        "    spectrograms = [] # 음성 데이터를 append하는 리스트\n",
        "    labels = [] # 텍스트를 숫자로 바꾼 결과물을 append하는 리스트\n",
        "    input_lengths = [] # 음성 데이터의 길이를 2로 나눈 값을 append하는 리스트\n",
        "    label_lengths = [] # 텍스트의 길이를 append하는 리스트\n",
        "    for (waveform, _, utterance, _, _, _) in data:\n",
        "        spec = valid_audio_transforms(waveform).squeeze(0).transpose(0, 1) # 차원을 하나 없애고 역을 취한다(원래는 시간축이 뒤에 있었는데,,, 역을 취하여 앞에 가도록 바꾼다).\n",
        "        spectrograms.append(spec)\n",
        "\n",
        "        utterance = utterance.lower().replace('ˈ','').replace('ˌ','').replace('*','')\n",
        "\n",
        "        label = torch.Tensor(text_transform.text_to_int(utterance))\n",
        "        labels.append(label)\n",
        "        input_lengths.append(spec.shape[0]//2)\n",
        "        label_lengths.append(len(label))\n",
        "\n",
        "    spectrograms = nn.utils.rnn.pad_sequence(spectrograms, batch_first=True) # 소리의 길이가 다르므로 하나의 Tensor로 만들기 위하여 padding을 진행하고 Tensor로 만든다.\n",
        "    spectrograms = spectrograms.unsqueeze(1) # 차원을 하나 더 붙힌다.\n",
        "    spectrograms = spectrograms.transpose(2, 3) # transpose를 한다. (배치 크기, 1, feature크기, 음성길이)로 만들었다.\n",
        "    labels = nn.utils.rnn.pad_sequence(labels, batch_first=True) # 라벨의 길이가 다르므로 하나의 Tensor로 만들기 위하여 padding을 진행하고 Tensor로 만든다.\n",
        "\n",
        "    return spectrograms, labels, input_lengths, label_lengths"
      ],
      "execution_count": 22,
      "outputs": []
    },
    {
      "cell_type": "markdown",
      "metadata": {
        "id": "TSuMOJosIqMP"
      },
      "source": [
        "# 실제 데이터 Load(Pytorch의 Dataset과 DataLoader 클래스를 이용)"
      ]
    },
    {
      "cell_type": "markdown",
      "metadata": {
        "id": "5EAFRCXY-_pr"
      },
      "source": [
        "이번 베이스라인 코드에서는 librispeech의 데이터셋을 학습시킬 것입니다. librispeech 데이터 중 본 대회에 활용할 수 있는 데이터는 아래와 같습니다.(이외의 데이터 활용시 실격!!)\n",
        "\n",
        "\n",
        "1. train-clean-100\n",
        "2. train-clean-360\n",
        "3. train-other-500\n",
        "\n",
        "이번 튜토리얼에서는 콜랩의 용량상 train-clean-100의 80%를 학습에 사용하고, 나머지 20%를 validation에 사용할 것입니다."
      ]
    },
    {
      "cell_type": "code",
      "metadata": {
        "id": "O6YCmVjwI02t"
      },
      "source": [
        "dataset = torchaudio.datasets.LIBRISPEECH(\"./data\", url='train-clean-100', download=True)"
      ],
      "execution_count": 14,
      "outputs": []
    },
    {
      "cell_type": "code",
      "metadata": {
        "id": "M3fqewsyxlzv"
      },
      "source": [
        "# dataset 중에서 80,20으로 split하여 train_dataset과 test_dataset 생성\n",
        "lengths = [int(dataset.__len__()*0.8), dataset.__len__()-int(dataset.__len__()*0.8)]\n",
        "                                                                                                                                                                                                                                          \n",
        "import torch.utils.data as data\n",
        "train_dataset, test_dataset = data.random_split(dataset, lengths)"
      ],
      "execution_count": 15,
      "outputs": []
    },
    {
      "cell_type": "markdown",
      "metadata": {
        "id": "YiAfEZJ25z3e"
      },
      "source": [
        "-----------"
      ]
    },
    {
      "cell_type": "code",
      "metadata": {
        "id": "Gu9BBE-xK3ax"
      },
      "source": [
        "iterer = iter(test_dataset)"
      ],
      "execution_count": 27,
      "outputs": []
    },
    {
      "cell_type": "code",
      "metadata": {
        "id": "vvrRc2MwK5xk"
      },
      "source": [
        "output = next(iterer)"
      ],
      "execution_count": 28,
      "outputs": []
    },
    {
      "cell_type": "code",
      "metadata": {
        "id": "uK3LVE9VK_Ou"
      },
      "source": [
        "waveform = output[0]"
      ],
      "execution_count": 24,
      "outputs": []
    },
    {
      "cell_type": "code",
      "metadata": {
        "id": "3gYat6vRLdt_"
      },
      "source": [
        "transform_res = train_audio_transforms(waveform)\r\n",
        "transform_res_ = transform_res.squeeze(0).transpose(0,1)"
      ],
      "execution_count": 27,
      "outputs": []
    },
    {
      "cell_type": "code",
      "metadata": {
        "id": "_5Wr77JlSjFh"
      },
      "source": [
        "utterance = output[2]"
      ],
      "execution_count": 29,
      "outputs": []
    },
    {
      "cell_type": "code",
      "metadata": {
        "colab": {
          "base_uri": "https://localhost:8080/",
          "height": 35
        },
        "id": "7blkm-6nLjN6",
        "outputId": "c25f4de5-89bb-4d7e-bb1c-971c683c9135"
      },
      "source": [
        "utterance"
      ],
      "execution_count": 30,
      "outputs": [
        {
          "output_type": "execute_result",
          "data": {
            "application/vnd.google.colaboratory.intrinsic+json": {
              "type": "string"
            },
            "text/plain": [
              "'AS I GAZED UPON THEM I WONDERED TO WHAT SECRET PLACE WITHIN THEIR BROODING IMMENSITIES THE LITTLE METAL MYSTERIES HAD FLED AND TO WHAT MYRIADS IT MIGHT BE OF THEIR KIND'"
            ]
          },
          "metadata": {
            "tags": []
          },
          "execution_count": 30
        }
      ]
    },
    {
      "cell_type": "code",
      "metadata": {
        "colab": {
          "base_uri": "https://localhost:8080/",
          "height": 35
        },
        "id": "VdI8lDQKTDDM",
        "outputId": "311d42d3-2934-42b0-eef3-72e2ddcaa354"
      },
      "source": [
        "utterance_ = utterance.lower().replace('ˈ','').replace('ˌ','').replace('*','')\r\n",
        "utterance_"
      ],
      "execution_count": 32,
      "outputs": [
        {
          "output_type": "execute_result",
          "data": {
            "application/vnd.google.colaboratory.intrinsic+json": {
              "type": "string"
            },
            "text/plain": [
              "'as i gazed upon them i wondered to what secret place within their brooding immensities the little metal mysteries had fled and to what myriads it might be of their kind'"
            ]
          },
          "metadata": {
            "tags": []
          },
          "execution_count": 32
        }
      ]
    },
    {
      "cell_type": "code",
      "metadata": {
        "id": "5ADboE51TSPm"
      },
      "source": [
        "label = text_transform.text_to_int(utterance_)\r\n",
        "label"
      ],
      "execution_count": null,
      "outputs": []
    },
    {
      "cell_type": "code",
      "metadata": {
        "colab": {
          "base_uri": "https://localhost:8080/"
        },
        "id": "CNBK41SvTrG_",
        "outputId": "33af62f6-49ad-4db3-d4aa-cb5c1bf6b797"
      },
      "source": [
        "transform_res_.shape[0]//2"
      ],
      "execution_count": 40,
      "outputs": [
        {
          "output_type": "execute_result",
          "data": {
            "text/plain": [
              "1318"
            ]
          },
          "metadata": {
            "tags": []
          },
          "execution_count": 40
        }
      ]
    },
    {
      "cell_type": "code",
      "metadata": {
        "colab": {
          "base_uri": "https://localhost:8080/"
        },
        "id": "79c6yP9mSXiM",
        "outputId": "7b4d9451-5cd0-4ba5-f8a7-64a7afda437f"
      },
      "source": [
        "transform_res_.shape"
      ],
      "execution_count": 31,
      "outputs": [
        {
          "output_type": "execute_result",
          "data": {
            "text/plain": [
              "torch.Size([1318, 128])"
            ]
          },
          "metadata": {
            "tags": []
          },
          "execution_count": 31
        }
      ]
    },
    {
      "cell_type": "code",
      "metadata": {
        "id": "v7vBL1j2LkG2"
      },
      "source": [
        "spectrograms = [] # 음성 데이터를 append하는 리스트\r\n",
        "labels = [] # 텍스트를 숫자로 바꾼 결과물을 append하는 리스트\r\n",
        "input_lengths = [] # 음성 데이터의 길이를 2로 나눈 값을 append하는 리스트\r\n",
        "label_lengths = [] # 텍스트의 길이를 append하는 리스트\r\n",
        "for _ in range(2):\r\n",
        "  (waveform, _, utterance, _, _, _) = next(iterer)\r\n",
        "  spec = train_audio_transforms(waveform).squeeze(0).transpose(0, 1) # 차원을 하나 없애고 역을 취한다(원래는 시간축이 뒤에 있었는데,,, 역을 취하여 앞에 가도록 바꾼다).\r\n",
        "  spectrograms.append(spec)\r\n",
        "\r\n",
        "  utterance =  utterance.lower().replace('ˈ','').replace('ˌ','').replace('*','')\r\n",
        "\r\n",
        "  label = torch.Tensor(text_transform.text_to_int(utterance))\r\n",
        "  labels.append(label)\r\n",
        "  input_lengths.append(spec.shape[0]//2)\r\n",
        "  label_lengths.append(len(label))"
      ],
      "execution_count": 34,
      "outputs": []
    },
    {
      "cell_type": "code",
      "metadata": {
        "id": "Fc28_SSWctGp"
      },
      "source": [
        "spectrograms_ = nn.utils.rnn.pad_sequence(spectrograms, batch_first=True)"
      ],
      "execution_count": 35,
      "outputs": []
    },
    {
      "cell_type": "code",
      "metadata": {
        "colab": {
          "base_uri": "https://localhost:8080/"
        },
        "id": "u5KzTBymc57Z",
        "outputId": "19911fc3-f9cf-4dec-e7c0-c21b5d8dd090"
      },
      "source": [
        "print(spectrograms[0].shape)\r\n",
        "print(spectrograms[1].shape)"
      ],
      "execution_count": 36,
      "outputs": [
        {
          "output_type": "stream",
          "text": [
            "torch.Size([1191, 128])\n",
            "torch.Size([429, 128])\n"
          ],
          "name": "stdout"
        }
      ]
    },
    {
      "cell_type": "code",
      "metadata": {
        "id": "1FEaX59cczsO"
      },
      "source": [
        "spectrograms__ = spectrograms_.unsqueeze(1).transpose(2,3)"
      ],
      "execution_count": 37,
      "outputs": []
    },
    {
      "cell_type": "code",
      "metadata": {
        "colab": {
          "base_uri": "https://localhost:8080/"
        },
        "id": "af-2S--tdwdi",
        "outputId": "5db0d618-6555-4823-85b5-40f0709c1398"
      },
      "source": [
        "spectrograms__.shape"
      ],
      "execution_count": 38,
      "outputs": [
        {
          "output_type": "execute_result",
          "data": {
            "text/plain": [
              "torch.Size([2, 1, 128, 1191])"
            ]
          },
          "metadata": {
            "tags": []
          },
          "execution_count": 38
        }
      ]
    },
    {
      "cell_type": "code",
      "metadata": {
        "colab": {
          "base_uri": "https://localhost:8080/"
        },
        "id": "MpyKFsjAdyAf",
        "outputId": "4f1498b6-1df4-492c-dc5a-3f7b22343de8"
      },
      "source": [
        "print(len(labels[0]))\r\n",
        "print(len(labels[1]))"
      ],
      "execution_count": 39,
      "outputs": [
        {
          "output_type": "stream",
          "text": [
            "224\n",
            "62\n"
          ],
          "name": "stdout"
        }
      ]
    },
    {
      "cell_type": "code",
      "metadata": {
        "id": "L6l19F4beikG"
      },
      "source": [
        "labels_ = nn.utils.rnn.pad_sequence(labels, batch_first=True)"
      ],
      "execution_count": 40,
      "outputs": []
    },
    {
      "cell_type": "code",
      "metadata": {
        "colab": {
          "base_uri": "https://localhost:8080/"
        },
        "id": "WYNFqm8-ej7g",
        "outputId": "ffd558c2-0578-4659-a081-2424d5d932fa"
      },
      "source": [
        "labels_.shape"
      ],
      "execution_count": 41,
      "outputs": [
        {
          "output_type": "execute_result",
          "data": {
            "text/plain": [
              "torch.Size([2, 224])"
            ]
          },
          "metadata": {
            "tags": []
          },
          "execution_count": 41
        }
      ]
    },
    {
      "cell_type": "markdown",
      "metadata": {
        "id": "CqJERvGM55PO"
      },
      "source": [
        "------------"
      ]
    },
    {
      "cell_type": "markdown",
      "metadata": {
        "id": "3VvUoBjNCNhT"
      },
      "source": [
        "만약 dataset에 \"train-clean-100\"뿐만 아니라 \"train-clean-360\", \"train-other-500\"까지 활용하고 싶다면 아래와 같이 코드를 짜주시면 됩니다."
      ]
    },
    {
      "cell_type": "code",
      "metadata": {
        "id": "gadDFj0sCQM6"
      },
      "source": [
        "# dataset = data.ConcatDataset(\n",
        "#             [\n",
        "#                 LIBRISPEECH(\"./data\", url=path, download=True)\n",
        "#                 for path in [\"train-clean-100\",\"train-clean-360\",\"train-other-500\"]\n",
        "#             ]\n",
        "#         )"
      ],
      "execution_count": null,
      "outputs": []
    },
    {
      "cell_type": "code",
      "metadata": {
        "id": "NrjBKbd-I74U"
      },
      "source": [
        "# 위의 dataset 클래스를 dataloader로 바꿔줍니다.\n",
        "kwargs = {'num_workers': 5, 'pin_memory': True} if torch.cuda.is_available() else {}\n",
        "\n",
        "train_loader = data.DataLoader(dataset=train_dataset,\n",
        "                            batch_size=20,\n",
        "                            shuffle=True,\n",
        "                            collate_fn=train_processing,\n",
        "                            **kwargs)\n",
        "test_loader = data.DataLoader(dataset=test_dataset,\n",
        "                            batch_size=20,\n",
        "                            shuffle=False,\n",
        "                            collate_fn=val_processing,\n",
        "                            **kwargs)"
      ],
      "execution_count": 16,
      "outputs": []
    },
    {
      "cell_type": "markdown",
      "metadata": {
        "id": "ug7JJ0POLlnF"
      },
      "source": [
        "# Decoding하기 - 해당 대회에서는 단순 GreedyDecoder를 활용"
      ]
    },
    {
      "cell_type": "code",
      "metadata": {
        "id": "RAFyUlq_ihnL"
      },
      "source": [
        "# 예측 결과를 통해 최종 텍스트 추출(나중에)\n",
        "def GreedyDecoder(output, labels, label_lengths, blank_label=27, collapse_repeated=True):\n",
        "\targ_maxes = torch.argmax(output, dim=2)\n",
        "\tdecodes = []\n",
        "\ttargets = []\n",
        "\tfor i, args in enumerate(arg_maxes):\n",
        "\t\tdecode = []\n",
        "\t\ttargets.append(text_transform.int_to_text(labels[i][:label_lengths[i]].tolist()))\n",
        "\t\tfor j, index in enumerate(args):\n",
        "\t\t\tif index != blank_label:\n",
        "\t\t\t\tif collapse_repeated and j != 0 and index == args[j -1]:\n",
        "\t\t\t\t\tcontinue\n",
        "\t\t\t\tdecode.append(index.item())\n",
        "\t\tdecodes.append(text_transform.int_to_text(decode))\n",
        "\treturn decodes, targets"
      ],
      "execution_count": 17,
      "outputs": []
    },
    {
      "cell_type": "markdown",
      "metadata": {
        "id": "S8QkAJgtOXYh"
      },
      "source": [
        "# Model Architecture(DeepSpeech2 기반)"
      ]
    },
    {
      "cell_type": "markdown",
      "metadata": {
        "id": "XTgX_9qPTGk7"
      },
      "source": [
        "1. CNNLayerNorm : CNNLayer의 인풋을 Normalizing하기 위한 클래스<br>\n",
        "\n",
        "2. ResidualCNN : ResCNN을 위한 클래스 (Residual 커넥션을 활용하면 DEEP한 네트워크에서도 CNN에 대한 높은 정확도와 빠른 학습을 기대할 수 있다)<br>\n",
        "\n",
        "3. BidirectionalGRU : 양방햔 GRU(RNN의 일종)을 위한 클래스<br>\n",
        "\n",
        "4. SpeechRecognitionModel : 위의 요소들을 종합한 최종 Speech Recognition Model 클래스"
      ]
    },
    {
      "cell_type": "code",
      "metadata": {
        "id": "k-E7YfwSijbI"
      },
      "source": [
        "class CNNLayerNorm(nn.Module):\n",
        "    def __init__(self, n_feats):\n",
        "        super(CNNLayerNorm, self).__init__()\n",
        "        self.layer_norm = nn.LayerNorm(n_feats)\n",
        "\n",
        "    def forward(self, x):\n",
        "        # x (batch, channel, feature, time)\n",
        "        x = x.transpose(2, 3).contiguous() # (batch, channel, time, feature)\n",
        "        x = self.layer_norm(x)\n",
        "        return x.transpose(2, 3).contiguous() # (batch, channel, feature, time) \n",
        "\n",
        "class ResidualCNN(nn.Module): # 컨볼루션->normalize->활성화->dropout의 연속\n",
        "    def __init__(self, in_channels, out_channels, kernel, stride, dropout, n_feats):\n",
        "        super(ResidualCNN, self).__init__()\n",
        "        self.cnn1 = nn.Conv2d(in_channels, out_channels, kernel, stride, padding=kernel//2)\n",
        "        self.cnn2 = nn.Conv2d(out_channels, out_channels, kernel, stride, padding=kernel//2)\n",
        "        self.dropout1 = nn.Dropout(dropout)\n",
        "        self.dropout2 = nn.Dropout(dropout)\n",
        "\n",
        "        self.layer_norm1 = CNNLayerNorm(n_feats)\n",
        "        self.layer_norm2 = CNNLayerNorm(n_feats)\n",
        "\n",
        "        self.batch_norm1 = nn.BatchNorm2d(in_channels)\n",
        "        self.batch_norm2 = nn.BatchNorm2d(out_channels)\n",
        "\n",
        "    def forward(self, x):\n",
        "        residual = x  # (batch, channel, feature, time) (배치 크기, 채널 수, feature, 음성의 길이)\n",
        "        # x = self.batch_norm1(x) # normalize\n",
        "        x = self.layer_norm1(x) # layer의 숫자를 normalize한다.\n",
        "        x = F.relu(x) # relu와 같은 활성화 함수의 일종(최근에 나온 활성화 함수로 모델의 깊이가 깊어질 수록 중요해진다).\n",
        "        # x = self.dropout1(x) # overfitting을 막기 위한 dropout\n",
        "        x = self.cnn1(x) # 컨볼루션 신경망\n",
        "        x = self.layer_norm2(x) # normalize\n",
        "        # x = self.batch_norm2(x) # normalize\n",
        "        x = F.relu(x) # 활성화 함수\n",
        "        # x = self.dropout2(x) # dropout\n",
        "        x = self.cnn2(x) # 컨볼루션 신경망\n",
        "        x += residual # 원래꺼를 더한다. 왜 이걸 하는지는 모르겠다\n",
        "        return x # (batch, channel, feature, time)\n",
        "\n",
        "class BidirectionalGRU(nn.Module):\n",
        "    def __init__(self, rnn_dim, hidden_size, dropout, batch_first):\n",
        "        super(BidirectionalGRU, self).__init__()\n",
        "\n",
        "        self.BiGRU = nn.GRU(\n",
        "            input_size=rnn_dim, hidden_size=hidden_size,\n",
        "            num_layers=1, batch_first=batch_first, bidirectional=True)\n",
        "        self.layer_norm = nn.LayerNorm(rnn_dim)\n",
        "        # self.dropout = nn.Dropout(dropout)\n",
        "\n",
        "    def forward(self, x):\n",
        "        x = self.layer_norm(x) # normalize\n",
        "        x = F.relu(x) # 활성화함수\n",
        "        x, _ = self.BiGRU(x) # BiGRU\n",
        "        # x = self.dropout(x) # dropout\n",
        "        return x\n",
        "\n",
        "class SpeechRecognitionModel(nn.Module):\n",
        "    def __init__(self, n_cnn_layers, n_rnn_layers, rnn_dim, n_class, n_feats, stride=2, dropout=0.1):\n",
        "        super(SpeechRecognitionModel, self).__init__()\n",
        "        n_feats = n_feats//2\n",
        "        self.cnn = nn.Conv2d(1, 32, 3, stride=stride, padding=3//2)  # cnn for extracting heirachal features, 1개에서 32개의 사진을 만들고, 3x3 크기의 커널로 stride만큼 돌린다(단 돌리기 전에 padding을 씌운다)\n",
        "\n",
        "        # n residual cnn layers with filter size of 32\n",
        "        # ResidualCNN을 n_cnn_layers만큼 여러개를 만든다.\n",
        "        self.rescnn_layers = nn.Sequential(*[\n",
        "            ResidualCNN(32, 32, kernel=3, stride=1, dropout=dropout, n_feats=n_feats)\n",
        "            for _ in range(n_cnn_layers)\n",
        "        ])\n",
        "\n",
        "        self.fully_connected = nn.Linear(n_feats*32, rnn_dim) # Applies a linear transformation to input data, 입력 데이터의 차원은 n_feats*32, 출력 데이터의 차원은 rnn_dim\n",
        "\n",
        "        self.birnn_layers = nn.Sequential(*[\n",
        "            BidirectionalGRU(rnn_dim=rnn_dim if i==0 else rnn_dim*2,\n",
        "                             hidden_size=rnn_dim, dropout=dropout, batch_first=i==0)\n",
        "            for i in range(n_rnn_layers)\n",
        "        ])\n",
        "        self.classifier = nn.Sequential(\n",
        "            nn.Linear(rnn_dim*2, rnn_dim), # birnn returns rnn_dim*2, 차원을 1/2배로 줄여준다.\n",
        "            nn.ReLU(), # 활성화 함수\n",
        "            # nn.Dropout(dropout), # dropout\n",
        "            nn.Linear(rnn_dim, n_class) # Linear transformation to n_class\n",
        "        )\n",
        "\n",
        "    def forward(self, x):\n",
        "        x = self.cnn(x)\n",
        "        x = self.rescnn_layers(x)\n",
        "        sizes = x.size()\n",
        "        x = x.view(sizes[0], sizes[1] * sizes[2], sizes[3])  # (batch, feature, time), (배치 사이즈, 채널 크기 x feature 사이즈, 음성 길이)\n",
        "        x = x.transpose(1, 2) # (batch, time, feature), (배치 사이즈, 음성 길이, 채널 크기 x feature 사이즈)\n",
        "        x = self.fully_connected(x) # (배치 사이즈, 음성 길이, rnn_dim)\n",
        "        x = self.birnn_layers(x) # bidirectional GRU\n",
        "        x = self.classifier(x) # 최종\n",
        "        return x"
      ],
      "execution_count": 23,
      "outputs": []
    },
    {
      "cell_type": "markdown",
      "metadata": {
        "id": "BXDRdOEkU5CP"
      },
      "source": [
        "# 학습과 validation을 위한 함수 생성"
      ]
    },
    {
      "cell_type": "markdown",
      "metadata": {
        "id": "ePvPz0DCVb8t"
      },
      "source": [
        "1. train 함수 : 1 epoch을 학습시키는 함수\n",
        "\n",
        "2. test 함수 : validation 하는 함수"
      ]
    },
    {
      "cell_type": "code",
      "metadata": {
        "id": "QuO3oHkLixEV"
      },
      "source": [
        "def train(model, device, train_loader, criterion, optimizer, scheduler, epoch):\n",
        "    model.train()\n",
        "    data_len = len(train_loader.dataset)\n",
        "    # with experiment.train():\n",
        "    for batch_idx, _data in enumerate(train_loader):\n",
        "        spectrograms, labels, input_lengths, label_lengths = _data\n",
        "        spectrograms, labels = spectrograms.to(device), labels.to(device)\n",
        "\n",
        "        optimizer.zero_grad()\n",
        "\n",
        "        output = model(spectrograms)  # (batch, time, n_class)\n",
        "        output = F.log_softmax(output, dim=2)\n",
        "        output = output.transpose(0, 1) # (time, batch, n_class)\n",
        "\n",
        "        loss = criterion(output, labels, input_lengths, label_lengths)\n",
        "        loss.backward()\n",
        "\n",
        "        optimizer.step()\n",
        "        scheduler.step()\n",
        "        # iter_meter.step()\n",
        "        if batch_idx % 100 == 0 or batch_idx == data_len:\n",
        "            print('Train Epoch: {} [{}/{} ({:.0f}%)]\\tLoss: {:.6f}'.format(\n",
        "                epoch, batch_idx * len(spectrograms), data_len,\n",
        "                100. * batch_idx / len(train_loader), loss.item()))\n",
        "\n",
        "\n",
        "def test(model, device, test_loader, criterion, epoch):\n",
        "    print('\\nevaluating...')\n",
        "    model.eval()\n",
        "    test_loss = 0\n",
        "    test_wer = []\n",
        "    test_cer = []\n",
        "    # with experiment.test():\n",
        "    with torch.no_grad():\n",
        "        for i, _data in enumerate(test_loader):\n",
        "            spectrograms, labels, input_lengths, label_lengths = _data \n",
        "            spectrograms, labels = spectrograms.to(device), labels.to(device)\n",
        "\n",
        "            output = model(spectrograms)  # (batch, time, n_class)\n",
        "            output = F.log_softmax(output, dim=2)\n",
        "            output = output.transpose(0, 1) # (time, batch, n_class)\n",
        "\n",
        "            loss = criterion(output, labels, input_lengths, label_lengths)\n",
        "            test_loss += loss.item() / len(test_loader)\n",
        "\n",
        "            decoded_preds, decoded_targets = GreedyDecoder(output.transpose(0, 1), labels, label_lengths)\n",
        "            for j in range(len(decoded_preds)):\n",
        "                test_wer.append(wer(decoded_targets[j], decoded_preds[j]))\n",
        "                test_cer.append(cer(decoded_targets[j], decoded_preds[j]))\n",
        "    \n",
        "    avg_wer = sum(test_wer)/len(test_wer)\n",
        "    avg_cer = sum(test_cer)/len(test_cer)\n",
        "    # experiment.log_metric('test_loss', test_loss, step=iter_meter.get())\n",
        "    # experiment.log_metric('wer', avg_wer, step=iter_meter.get())\n",
        "    print('Test set: Average loss: {:.4f}, Average WER: {:.4f}, Average CER: {:.4f}\\n'.format(test_loss, avg_wer, avg_cer))\n",
        "    return test_loss, avg_wer, avg_cer"
      ],
      "execution_count": 24,
      "outputs": []
    },
    {
      "cell_type": "markdown",
      "metadata": {
        "id": "MV5PvF4jVipy"
      },
      "source": [
        "# 위의 데이터와 train,test 함수를 활용한 main 함수 제작"
      ]
    },
    {
      "cell_type": "code",
      "metadata": {
        "id": "_bl25bIzVEAa"
      },
      "source": [
        "def main(learning_rate=5e-4, batch_size=20, epochs=10, train_url=\"train-clean-100\", test_url=\"test-clean\"):\n",
        "    ########################################## 파라미터 정하기\n",
        "    hparams = {\n",
        "        \"n_cnn_layers\": 1,\n",
        "        \"n_rnn_layers\": 5,\n",
        "        \"rnn_dim\": 512,\n",
        "        \"n_class\": 44,\n",
        "        \"n_feats\": 128,\n",
        "        \"stride\":2,\n",
        "        \"dropout\": 0.0,\n",
        "        \"learning_rate\": learning_rate,\n",
        "        \"batch_size\": batch_size,\n",
        "        \"epochs\": epochs\n",
        "    }\n",
        "    os.makedirs( '/gdrive/MyDrive/speech_recognition/', exist_ok=True)\n",
        "    # experiment.log_parameters(hparams)\n",
        "\n",
        "    use_cuda = torch.cuda.is_available()\n",
        "    torch.manual_seed(7)\n",
        "    device = torch.device(\"cuda\" if use_cuda else \"cpu\")\n",
        "\n",
        "    ########################################## 데이터 저장하기\n",
        "    if not os.path.isdir(\"./data\"):\n",
        "        os.makedirs(\"./data\")\n",
        "\n",
        "    kwargs = {'num_workers': 1, 'pin_memory': True} if use_cuda else {}\n",
        "    train_loader = data.DataLoader(dataset=train_dataset,\n",
        "                                batch_size=hparams['batch_size'],\n",
        "                                shuffle=True,\n",
        "                                collate_fn=train_processing, #lambda x: data_processing(x, 'train'),\n",
        "                                **kwargs)\n",
        "    test_loader = data.DataLoader(dataset=test_dataset,\n",
        "                                batch_size=hparams['batch_size'],\n",
        "                                shuffle=False,\n",
        "                                collate_fn=val_processing, #lambda x: data_processing(x, 'valid'),\n",
        "                                **kwargs)\n",
        "\n",
        "    ########################################## 모델 저장하기\n",
        "    model = SpeechRecognitionModel(\n",
        "        hparams['n_cnn_layers'], hparams['n_rnn_layers'], hparams['rnn_dim'],\n",
        "        hparams['n_class'], hparams['n_feats'], hparams['stride'], hparams['dropout']\n",
        "        ).to(device)\n",
        "\n",
        "    # model.load_state_dict(torch.load('/gdrive/My Drive/Colab Notebooks/new_data_without_residual_22.pt'))\n",
        "    # model.load_state_dict(torch.load('/gdrive/My Drive/Colab Notebooks/new_data_without_residual_15.pt'))\n",
        "\n",
        "    # print(model)\n",
        "    print('Num Model Parameters', sum([param.nelement() for param in model.parameters()]))\n",
        "\n",
        "\n",
        "    ########################################## 학습을 위한 다양한 함수 정의(optimizer, criterion 등)\n",
        "    optimizer = optim.AdamW(model.parameters(), hparams['learning_rate'])\n",
        "    criterion = nn.CTCLoss(blank=43).to(device)\n",
        "    scheduler = optim.lr_scheduler.OneCycleLR(optimizer, max_lr=hparams['learning_rate'], \n",
        "                                              steps_per_epoch=int(len(train_loader)),\n",
        "                                              epochs=hparams['epochs'],\n",
        "                                              anneal_strategy='linear')\n",
        "\n",
        "    # iter_meter = IterMeter()\n",
        "\n",
        "    ########################################## 정한 에폭동안 학습\n",
        "    for epoch in range(1, epochs + 1):\n",
        "        train(model, device, train_loader, criterion, optimizer, scheduler, epoch)\n",
        "        test(model, device, test_loader, criterion, epoch)\n",
        "        torch.save(model.state_dict(), '/gdrive/MyDrive/speech_recognition/'+str(epoch)+'.pt') #저장 경로 확인"
      ],
      "execution_count": 25,
      "outputs": []
    },
    {
      "cell_type": "markdown",
      "metadata": {
        "id": "eF4UzOLTVqEi"
      },
      "source": [
        "# 학습 시작!"
      ]
    },
    {
      "cell_type": "markdown",
      "metadata": {
        "id": "IL-NhBFozY10"
      },
      "source": [
        "에폭을 5까지밖에 안 하였지만, 더 해도 될 것으로 보임."
      ]
    },
    {
      "cell_type": "code",
      "metadata": {
        "id": "mEige4E2Yt5h",
        "colab": {
          "base_uri": "https://localhost:8080/"
        },
        "outputId": "b0045a24-b20a-4050-83b3-7fc36a405413"
      },
      "source": [
        "learning_rate = 5e-4\n",
        "batch_size = 5\n",
        "epochs = 10\n",
        "\n",
        "libri_train_set = \"train-clean-100\"\n",
        "libri_test_set = \"test-clean\"\n",
        "\n",
        "main(learning_rate, batch_size, epochs, libri_train_set, libri_test_set)"
      ],
      "execution_count": null,
      "outputs": [
        {
          "output_type": "stream",
          "text": [
            "Num Model Parameters 23675692\n",
            "Train Epoch: 1 [0/22831 (0%)]\tLoss: 8.541507\n",
            "Train Epoch: 1 [500/22831 (2%)]\tLoss: 3.111030\n",
            "Train Epoch: 1 [1000/22831 (4%)]\tLoss: 2.939624\n",
            "Train Epoch: 1 [1500/22831 (7%)]\tLoss: 2.897873\n",
            "Train Epoch: 1 [2000/22831 (9%)]\tLoss: 2.879647\n",
            "Train Epoch: 1 [2500/22831 (11%)]\tLoss: 2.913358\n",
            "Train Epoch: 1 [3000/22831 (13%)]\tLoss: 2.849858\n",
            "Train Epoch: 1 [3500/22831 (15%)]\tLoss: 2.857395\n",
            "Train Epoch: 1 [4000/22831 (18%)]\tLoss: 2.871485\n",
            "Train Epoch: 1 [4500/22831 (20%)]\tLoss: 3.004053\n",
            "Train Epoch: 1 [5000/22831 (22%)]\tLoss: 2.819967\n",
            "Train Epoch: 1 [5500/22831 (24%)]\tLoss: 2.907221\n",
            "Train Epoch: 1 [6000/22831 (26%)]\tLoss: 2.941470\n",
            "Train Epoch: 1 [6500/22831 (28%)]\tLoss: 2.835867\n",
            "Train Epoch: 1 [7000/22831 (31%)]\tLoss: 2.864318\n",
            "Train Epoch: 1 [7500/22831 (33%)]\tLoss: 2.882739\n",
            "Train Epoch: 1 [8000/22831 (35%)]\tLoss: 2.846595\n",
            "Train Epoch: 1 [8500/22831 (37%)]\tLoss: 2.858359\n",
            "Train Epoch: 1 [9000/22831 (39%)]\tLoss: 2.848840\n",
            "Train Epoch: 1 [9500/22831 (42%)]\tLoss: 2.854638\n",
            "Train Epoch: 1 [10000/22831 (44%)]\tLoss: 2.702080\n",
            "Train Epoch: 1 [10500/22831 (46%)]\tLoss: 2.542570\n",
            "Train Epoch: 1 [11000/22831 (48%)]\tLoss: 2.413088\n"
          ],
          "name": "stdout"
        }
      ]
    },
    {
      "cell_type": "markdown",
      "metadata": {
        "id": "XxfHBVj6y8Cc"
      },
      "source": [
        "# 음성기호 예측"
      ]
    },
    {
      "cell_type": "code",
      "metadata": {
        "id": "MJle2WzCKGPQ",
        "colab": {
          "base_uri": "https://localhost:8080/",
          "height": 371
        },
        "outputId": "56ab278a-b929-4141-da37-a51c215161de"
      },
      "source": [
        "# test.csv파일에서 테스트 파일 목록 불러오기\n",
        "test_file = pd.read_csv(\"/gdrive/MyDrive/PREDICTION/호두랩스 대회/datasets/test.csv\")\n",
        "test_list = test_file[\"file_name\"]\n",
        "\n",
        "#테스트 파일 목록에 있는 음성 데이터 파일 불러오기\n",
        "base_dir = \"/gdrive/MyDrive/PREDICTION/호두랩스 대회/datasets/speech_folder\" #테스트 데이터가 저장된 경로\n",
        "\n",
        "test_dataset = []\n",
        "for file_name in test_list: \n",
        "    file_dir = os.path.join(base_dir, file_name)\n",
        "    waveform, sample_rate = torchaudio.load(file_dir) #각 음성데이터의 waverform, sample_rate 저장\n",
        "    test_dataset.append((waveform, sample_rate))"
      ],
      "execution_count": null,
      "outputs": [
        {
          "output_type": "error",
          "ename": "OSError",
          "evalue": "ignored",
          "traceback": [
            "\u001b[0;31m---------------------------------------------------------------------------\u001b[0m",
            "\u001b[0;31mOSError\u001b[0m                                   Traceback (most recent call last)",
            "\u001b[0;32m<ipython-input-12-188b2b829475>\u001b[0m in \u001b[0;36m<module>\u001b[0;34m()\u001b[0m\n\u001b[1;32m      9\u001b[0m \u001b[0;32mfor\u001b[0m \u001b[0mfile_name\u001b[0m \u001b[0;32min\u001b[0m \u001b[0mtest_list\u001b[0m\u001b[0;34m:\u001b[0m\u001b[0;34m\u001b[0m\u001b[0;34m\u001b[0m\u001b[0m\n\u001b[1;32m     10\u001b[0m     \u001b[0mfile_dir\u001b[0m \u001b[0;34m=\u001b[0m \u001b[0mos\u001b[0m\u001b[0;34m.\u001b[0m\u001b[0mpath\u001b[0m\u001b[0;34m.\u001b[0m\u001b[0mjoin\u001b[0m\u001b[0;34m(\u001b[0m\u001b[0mbase_dir\u001b[0m\u001b[0;34m,\u001b[0m \u001b[0mfile_name\u001b[0m\u001b[0;34m)\u001b[0m\u001b[0;34m\u001b[0m\u001b[0;34m\u001b[0m\u001b[0m\n\u001b[0;32m---> 11\u001b[0;31m     \u001b[0mwaveform\u001b[0m\u001b[0;34m,\u001b[0m \u001b[0msample_rate\u001b[0m \u001b[0;34m=\u001b[0m \u001b[0mtorchaudio\u001b[0m\u001b[0;34m.\u001b[0m\u001b[0mload\u001b[0m\u001b[0;34m(\u001b[0m\u001b[0mfile_dir\u001b[0m\u001b[0;34m)\u001b[0m \u001b[0;31m#각 음성데이터의 waverform, sample_rate 저장\u001b[0m\u001b[0;34m\u001b[0m\u001b[0;34m\u001b[0m\u001b[0m\n\u001b[0m\u001b[1;32m     12\u001b[0m     \u001b[0mtest_dataset\u001b[0m\u001b[0;34m.\u001b[0m\u001b[0mappend\u001b[0m\u001b[0;34m(\u001b[0m\u001b[0;34m(\u001b[0m\u001b[0mwaveform\u001b[0m\u001b[0;34m,\u001b[0m \u001b[0msample_rate\u001b[0m\u001b[0;34m)\u001b[0m\u001b[0;34m)\u001b[0m\u001b[0;34m\u001b[0m\u001b[0;34m\u001b[0m\u001b[0m\n",
            "\u001b[0;32m/usr/local/lib/python3.6/dist-packages/torchaudio/__init__.py\u001b[0m in \u001b[0;36mload\u001b[0;34m(filepath, out, normalization, channels_first, num_frames, offset, signalinfo, encodinginfo, filetype)\u001b[0m\n\u001b[1;32m     84\u001b[0m         \u001b[0msignalinfo\u001b[0m\u001b[0;34m=\u001b[0m\u001b[0msignalinfo\u001b[0m\u001b[0;34m,\u001b[0m\u001b[0;34m\u001b[0m\u001b[0;34m\u001b[0m\u001b[0m\n\u001b[1;32m     85\u001b[0m         \u001b[0mencodinginfo\u001b[0m\u001b[0;34m=\u001b[0m\u001b[0mencodinginfo\u001b[0m\u001b[0;34m,\u001b[0m\u001b[0;34m\u001b[0m\u001b[0;34m\u001b[0m\u001b[0m\n\u001b[0;32m---> 86\u001b[0;31m         \u001b[0mfiletype\u001b[0m\u001b[0;34m=\u001b[0m\u001b[0mfiletype\u001b[0m\u001b[0;34m,\u001b[0m\u001b[0;34m\u001b[0m\u001b[0;34m\u001b[0m\u001b[0m\n\u001b[0m\u001b[1;32m     87\u001b[0m     )\n\u001b[1;32m     88\u001b[0m \u001b[0;34m\u001b[0m\u001b[0m\n",
            "\u001b[0;32m/usr/local/lib/python3.6/dist-packages/torchaudio/_sox_backend.py\u001b[0m in \u001b[0;36mload\u001b[0;34m(filepath, out, normalization, channels_first, num_frames, offset, signalinfo, encodinginfo, filetype)\u001b[0m\n\u001b[1;32m     23\u001b[0m     \u001b[0;31m# check if valid file\u001b[0m\u001b[0;34m\u001b[0m\u001b[0;34m\u001b[0m\u001b[0;34m\u001b[0m\u001b[0m\n\u001b[1;32m     24\u001b[0m     \u001b[0;32mif\u001b[0m \u001b[0;32mnot\u001b[0m \u001b[0mos\u001b[0m\u001b[0;34m.\u001b[0m\u001b[0mpath\u001b[0m\u001b[0;34m.\u001b[0m\u001b[0misfile\u001b[0m\u001b[0;34m(\u001b[0m\u001b[0mfilepath\u001b[0m\u001b[0;34m)\u001b[0m\u001b[0;34m:\u001b[0m\u001b[0;34m\u001b[0m\u001b[0;34m\u001b[0m\u001b[0m\n\u001b[0;32m---> 25\u001b[0;31m         \u001b[0;32mraise\u001b[0m \u001b[0mOSError\u001b[0m\u001b[0;34m(\u001b[0m\u001b[0;34m\"{} not found or is a directory\"\u001b[0m\u001b[0;34m.\u001b[0m\u001b[0mformat\u001b[0m\u001b[0;34m(\u001b[0m\u001b[0mfilepath\u001b[0m\u001b[0;34m)\u001b[0m\u001b[0;34m)\u001b[0m\u001b[0;34m\u001b[0m\u001b[0;34m\u001b[0m\u001b[0m\n\u001b[0m\u001b[1;32m     26\u001b[0m \u001b[0;34m\u001b[0m\u001b[0m\n\u001b[1;32m     27\u001b[0m     \u001b[0;31m# initialize output tensor\u001b[0m\u001b[0;34m\u001b[0m\u001b[0;34m\u001b[0m\u001b[0;34m\u001b[0m\u001b[0m\n",
            "\u001b[0;31mOSError\u001b[0m: /gdrive/MyDrive/PREDICTION/호두랩스 대회/datasets/speech_folder/24750_20200129134606_0032.wav not found or is a directory"
          ]
        }
      ]
    },
    {
      "cell_type": "code",
      "metadata": {
        "id": "ZasVbTyDYzYL"
      },
      "source": [
        "# test data에는 label이 없으므로, 음성 데이터(waveform)만을 다룬 전처리 과정\n",
        "\n",
        "def test_processing(data): \n",
        "    spectrograms = [] # 음성 데이터를 append하는 리스트\n",
        "    input_lengths = [] # 음성 데이터의 길이를 2로 나눈 값을 append하는 리스트\n",
        "    \n",
        "    for (waveform, _) in data:\n",
        "        spec = valid_audio_transforms(waveform).squeeze(0).transpose(0, 1) # 차원을 하나 없애고 역을 취한다(원래는 시간축이 뒤에 있었는데,,, 역을 취하여 앞에 가도록 바꾼다).\n",
        "        spectrograms.append(spec)\n",
        "\n",
        "    spectrograms = nn.utils.rnn.pad_sequence(spectrograms, batch_first=True) # 소리의 길이가 다르므로 하나의 Tensor로 만들기 위하여 padding을 진행하고 Tensor로 만든다.\n",
        "    spectrograms = spectrograms.unsqueeze(1) # 차원을 하나 더 붙힌다.\n",
        "    spectrograms = spectrograms.transpose(2, 3) # transpose를 한다. (배치 크기, 1, feature크기, 음성길이)로 만들었다.\n",
        "\n",
        "    return spectrograms, input_lengths"
      ],
      "execution_count": null,
      "outputs": []
    },
    {
      "cell_type": "code",
      "metadata": {
        "id": "f0fCJ6IhYxMS"
      },
      "source": [
        "#test를 위한 loader \n",
        "\n",
        "test_loader = data.DataLoader(test_dataset,\n",
        "                            batch_size=1,\n",
        "                            shuffle=False,\n",
        "                            collate_fn=test_processing) "
      ],
      "execution_count": null,
      "outputs": []
    },
    {
      "cell_type": "code",
      "metadata": {
        "id": "3KOYlNi2NnBe",
        "colab": {
          "base_uri": "https://localhost:8080/"
        },
        "outputId": "2b9dfe86-8ca4-49a7-e3d4-101bb1876f34"
      },
      "source": [
        "# train에서와 동일한 하이퍼 파라미터 설정\n",
        "hparams = {\n",
        "    \"n_cnn_layers\": 1,\n",
        "        \"n_rnn_layers\": 5,\n",
        "        \"rnn_dim\": 512,\n",
        "        \"n_class\": 44,\n",
        "        \"n_feats\": 128}\n",
        "\n",
        "# train단계에서 저장한 모델  불러오기\n",
        "model = SpeechRecognitionModel(hparams['n_cnn_layers'], hparams['n_rnn_layers'], hparams['rnn_dim'],hparams['n_class'], hparams['n_feats'])\n",
        "model.load_state_dict(torch.load('/gdrive/MyDrive/PREDICTION/호두랩스 대회/new_pron5.pt'))\n",
        "model.eval()"
      ],
      "execution_count": null,
      "outputs": [
        {
          "output_type": "execute_result",
          "data": {
            "text/plain": [
              "SpeechRecognitionModel(\n",
              "  (cnn): Conv2d(1, 32, kernel_size=(3, 3), stride=(2, 2), padding=(1, 1))\n",
              "  (rescnn_layers): Sequential(\n",
              "    (0): ResidualCNN(\n",
              "      (cnn1): Conv2d(32, 32, kernel_size=(3, 3), stride=(1, 1), padding=(1, 1))\n",
              "      (cnn2): Conv2d(32, 32, kernel_size=(3, 3), stride=(1, 1), padding=(1, 1))\n",
              "      (dropout1): Dropout(p=0.1, inplace=False)\n",
              "      (dropout2): Dropout(p=0.1, inplace=False)\n",
              "      (layer_norm1): CNNLayerNorm(\n",
              "        (layer_norm): LayerNorm((64,), eps=1e-05, elementwise_affine=True)\n",
              "      )\n",
              "      (layer_norm2): CNNLayerNorm(\n",
              "        (layer_norm): LayerNorm((64,), eps=1e-05, elementwise_affine=True)\n",
              "      )\n",
              "      (batch_norm1): BatchNorm2d(32, eps=1e-05, momentum=0.1, affine=True, track_running_stats=True)\n",
              "      (batch_norm2): BatchNorm2d(32, eps=1e-05, momentum=0.1, affine=True, track_running_stats=True)\n",
              "    )\n",
              "  )\n",
              "  (fully_connected): Linear(in_features=2048, out_features=512, bias=True)\n",
              "  (birnn_layers): Sequential(\n",
              "    (0): BidirectionalGRU(\n",
              "      (BiGRU): GRU(512, 512, batch_first=True, bidirectional=True)\n",
              "      (layer_norm): LayerNorm((512,), eps=1e-05, elementwise_affine=True)\n",
              "    )\n",
              "    (1): BidirectionalGRU(\n",
              "      (BiGRU): GRU(1024, 512, bidirectional=True)\n",
              "      (layer_norm): LayerNorm((1024,), eps=1e-05, elementwise_affine=True)\n",
              "    )\n",
              "    (2): BidirectionalGRU(\n",
              "      (BiGRU): GRU(1024, 512, bidirectional=True)\n",
              "      (layer_norm): LayerNorm((1024,), eps=1e-05, elementwise_affine=True)\n",
              "    )\n",
              "    (3): BidirectionalGRU(\n",
              "      (BiGRU): GRU(1024, 512, bidirectional=True)\n",
              "      (layer_norm): LayerNorm((1024,), eps=1e-05, elementwise_affine=True)\n",
              "    )\n",
              "    (4): BidirectionalGRU(\n",
              "      (BiGRU): GRU(1024, 512, bidirectional=True)\n",
              "      (layer_norm): LayerNorm((1024,), eps=1e-05, elementwise_affine=True)\n",
              "    )\n",
              "  )\n",
              "  (classifier): Sequential(\n",
              "    (0): Linear(in_features=1024, out_features=512, bias=True)\n",
              "    (1): ReLU()\n",
              "    (2): Linear(in_features=512, out_features=44, bias=True)\n",
              "  )\n",
              ")"
            ]
          },
          "metadata": {
            "tags": []
          },
          "execution_count": 26
        }
      ]
    },
    {
      "cell_type": "code",
      "metadata": {
        "id": "ad0WQUqVdCg9"
      },
      "source": [
        "# # test data에는 label이 없으므로, 음성 데이터(waveform)만을 다룬 디코더 함수 생성\n",
        "\n",
        "def GreedyDecoder_for_test(output, blank_label=43, collapse_repeated=True):\n",
        "\targ_maxes = torch.argmax(output, dim=2)\n",
        "\tdecodes = []\n",
        "\tfor i, args in enumerate(arg_maxes):\n",
        "\t\tdecode = []\n",
        "\t\tfor j, index in enumerate(args):\n",
        "\t\t\tif index != blank_label:\n",
        "\t\t\t\tif collapse_repeated and j != 0 and index == args[j -1]:\n",
        "\t\t\t\t\tcontinue\n",
        "\t\t\t\tdecode.append(index.item())\n",
        "\t\tdecodes.append(text_transform.int_to_text(decode))\n",
        "\treturn decodes"
      ],
      "execution_count": null,
      "outputs": []
    },
    {
      "cell_type": "code",
      "metadata": {
        "id": "9gVklHgANt7b"
      },
      "source": [
        "#predict\n",
        "\n",
        "predicted = []\n",
        "\n",
        "with torch.no_grad():\n",
        "    for i, _data in enumerate(test_loader):\n",
        "      spectrograms, input_lengths = _data \n",
        "      output = model(spectrograms)  # (batch, time, n_class)\n",
        "      output = F.log_softmax(output, dim=2)\n",
        "      output = output.transpose(0, 1) # (time, batch, n_class)\n",
        "      decoded_preds = GreedyDecoder_for_test(output.transpose(0, 1))\n",
        "\n",
        "      predicted.append(decoded_preds)"
      ],
      "execution_count": null,
      "outputs": []
    },
    {
      "cell_type": "code",
      "metadata": {
        "colab": {
          "base_uri": "https://localhost:8080/",
          "height": 399
        },
        "id": "Q5w3-GnuuPHg",
        "outputId": "c31d1094-501f-4bb0-9de1-2d48146db668"
      },
      "source": [
        "# 제출 파일\n",
        "\n",
        "df_prediction = pd.DataFrame({'id': test_list, 'text':predicted})\n",
        "\n",
        "display(df_prediction)"
      ],
      "execution_count": null,
      "outputs": [
        {
          "output_type": "display_data",
          "data": {
            "text/html": [
              "<div>\n",
              "<style scoped>\n",
              "    .dataframe tbody tr th:only-of-type {\n",
              "        vertical-align: middle;\n",
              "    }\n",
              "\n",
              "    .dataframe tbody tr th {\n",
              "        vertical-align: top;\n",
              "    }\n",
              "\n",
              "    .dataframe thead th {\n",
              "        text-align: right;\n",
              "    }\n",
              "</style>\n",
              "<table border=\"1\" class=\"dataframe\">\n",
              "  <thead>\n",
              "    <tr style=\"text-align: right;\">\n",
              "      <th></th>\n",
              "      <th>id</th>\n",
              "      <th>text</th>\n",
              "    </tr>\n",
              "  </thead>\n",
              "  <tbody>\n",
              "    <tr>\n",
              "      <th>0</th>\n",
              "      <td>24750_20200129134606_0032.wav</td>\n",
              "      <td>[ænd ɪ pæn]</td>\n",
              "    </tr>\n",
              "    <tr>\n",
              "      <th>1</th>\n",
              "      <td>25854_20191023211911_0053.wav</td>\n",
              "      <td>[hir]</td>\n",
              "    </tr>\n",
              "    <tr>\n",
              "      <th>2</th>\n",
              "      <td>24750_20200204151411_0018.wav</td>\n",
              "      <td>[gər sæns]</td>\n",
              "    </tr>\n",
              "    <tr>\n",
              "      <th>3</th>\n",
              "      <td>30423_20200115214816_0010.wav</td>\n",
              "      <td>[mɛ lɛt if]</td>\n",
              "    </tr>\n",
              "    <tr>\n",
              "      <th>4</th>\n",
              "      <td>30423_20200115214944_0024.wav</td>\n",
              "      <td>[eɪn miŋ meɪdzeɪ]</td>\n",
              "    </tr>\n",
              "    <tr>\n",
              "      <th>...</th>\n",
              "      <td>...</td>\n",
              "      <td>...</td>\n",
              "    </tr>\n",
              "    <tr>\n",
              "      <th>407</th>\n",
              "      <td>1320-122612-0008.flac</td>\n",
              "      <td>[ðə aɪz əv ðə hoʊl pɑrti fɑloʊd ðə ænɪkspɛktɪd...</td>\n",
              "    </tr>\n",
              "    <tr>\n",
              "      <th>408</th>\n",
              "      <td>1320-122612-0009.flac</td>\n",
              "      <td>[hɪt wʊd hæv bɪn mɔr wəndərfəl hædi spoʊkən wɪ...</td>\n",
              "    </tr>\n",
              "    <tr>\n",
              "      <th>409</th>\n",
              "      <td>1320-122612-0013.flac</td>\n",
              "      <td>[ə sərpəl əv ə fju hənərd fitɪn səkəm frɛns wɪ...</td>\n",
              "    </tr>\n",
              "    <tr>\n",
              "      <th>410</th>\n",
              "      <td>1320-122612-0014.flac</td>\n",
              "      <td>[ðə ɪgzæməneɪʃən haʊɛvər rɪzəltɪd ɪn noʊ dɪskɛ...</td>\n",
              "    </tr>\n",
              "    <tr>\n",
              "      <th>411</th>\n",
              "      <td>1320-122617-0000.flac</td>\n",
              "      <td>[nɑt wɪz stændɪŋ ðə haɪrɛz əluʃən əv pɑkaɪ hi ...</td>\n",
              "    </tr>\n",
              "  </tbody>\n",
              "</table>\n",
              "<p>412 rows × 2 columns</p>\n",
              "</div>"
            ],
            "text/plain": [
              "                                id                                               text\n",
              "0    24750_20200129134606_0032.wav                                        [ænd ɪ pæn]\n",
              "1    25854_20191023211911_0053.wav                                              [hir]\n",
              "2    24750_20200204151411_0018.wav                                         [gər sæns]\n",
              "3    30423_20200115214816_0010.wav                                        [mɛ lɛt if]\n",
              "4    30423_20200115214944_0024.wav                                  [eɪn miŋ meɪdzeɪ]\n",
              "..                             ...                                                ...\n",
              "407          1320-122612-0008.flac  [ðə aɪz əv ðə hoʊl pɑrti fɑloʊd ðə ænɪkspɛktɪd...\n",
              "408          1320-122612-0009.flac  [hɪt wʊd hæv bɪn mɔr wəndərfəl hædi spoʊkən wɪ...\n",
              "409          1320-122612-0013.flac  [ə sərpəl əv ə fju hənərd fitɪn səkəm frɛns wɪ...\n",
              "410          1320-122612-0014.flac  [ðə ɪgzæməneɪʃən haʊɛvər rɪzəltɪd ɪn noʊ dɪskɛ...\n",
              "411          1320-122617-0000.flac  [nɑt wɪz stændɪŋ ðə haɪrɛz əluʃən əv pɑkaɪ hi ...\n",
              "\n",
              "[412 rows x 2 columns]"
            ]
          },
          "metadata": {
            "tags": []
          }
        }
      ]
    }
  ]
}