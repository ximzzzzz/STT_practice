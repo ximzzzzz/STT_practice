{
 "cells": [
  {
   "cell_type": "code",
   "execution_count": 2,
   "metadata": {},
   "outputs": [],
   "source": [
    "import pandas as pd\n",
    "import numpy as np\n",
    "import os\n",
    "import re\n",
    "from scipy.io.wavfile import read\n",
    "import wave\n",
    "from tqdm import tqdm"
   ]
  },
  {
   "cell_type": "code",
   "execution_count": null,
   "metadata": {},
   "outputs": [],
   "source": [
    "def is_wav(f):\n",
    "    res = True\n",
    "    try:\n",
    "        wave.open(f)\n",
    "    except wave.Error as e:\n",
    "        res = False\n",
    "    return res\n",
    "\n",
    "def pcm2wav(pcm_file, save_file, channels=1, bits=16, sample_rate=16000):\n",
    "\n",
    "    if is_wav(pcm_file):\n",
    "        raise ValueError('\"' + str(pcm_file) + '\"' +\n",
    "                         \" is a wav file, not pcm file! \")\n",
    "\n",
    "    pcmf = open(pcm_file, 'rb')\n",
    "    pcmdata = pcmf.read()\n",
    "    pcmf.close()\n",
    "\n",
    "    if bits % 8 != 0:\n",
    "        raise ValueError(\"bits % 8 must == 0. now bits:\" + str(bits))\n",
    "\n",
    "    wavfile = wave.open(save_file, 'wb')\n",
    "\n",
    "    wavfile.setnchannels(channels)\n",
    "    wavfile.setsampwidth(bits // 8)\n",
    "    wavfile.setframerate(sample_rate)\n",
    "\n",
    "    wavfile.writeframes(pcmdata)\n",
    "    wavfile.close()"
   ]
  },
  {
   "cell_type": "markdown",
   "metadata": {},
   "source": [
    "# 1. hackathon data"
   ]
  },
  {
   "cell_type": "code",
   "execution_count": 43,
   "metadata": {},
   "outputs": [],
   "source": [
    "hacka_dir = '/Data/etc/Robust_ASR/data/hacka/'\n",
    "hacka_label = '000.PCM2TEXT'\n",
    "hacka_cats = os.listdir(hacka_dir)\n",
    "hacka_cats.remove('.ipynb_checkpoints')"
   ]
  },
  {
   "cell_type": "code",
   "execution_count": 11,
   "metadata": {},
   "outputs": [],
   "source": [
    "path_list = []\n",
    "label_list = []\n",
    "for category in hacka_cats:\n",
    "    hacka_label_path = os.listdir(os.path.join(hacka_dir, category, hacka_label))[0]\n",
    "    with open(os.path.join(hacka_dir, category, hacka_label, hacka_label_path), 'r', encoding='cp949')as f:\n",
    "        while True:\n",
    "            row = f.readline()\n",
    "            if not row:\n",
    "                break\n",
    "            row = row.replace('\\\\','/').replace('../2020_자유대화_Hackarthon_학습DB/',hacka_dir )\n",
    "            path, label = row.split('\\t')\n",
    "            path_list.append(path)\n",
    "            label_list.append(label)"
   ]
  },
  {
   "cell_type": "code",
   "execution_count": 120,
   "metadata": {},
   "outputs": [],
   "source": [
    "sym_including = list(filter(lambda x : re.compile('\\(\\w.*\\)').search(x), label_list))"
   ]
  },
  {
   "cell_type": "code",
   "execution_count": 121,
   "metadata": {
    "collapsed": true
   },
   "outputs": [
    {
     "data": {
      "text/plain": [
       "['술은 술은 안 먹어야지 (SP:그르) 그나마 쬐금 도움이 되는 거 같애\\n',\n",
       " '그렇다고 건강관리 안 했다고 해서 (SP:안 아) 안 아픈 것도 아니고\\n',\n",
       " '이게 (SP:사제) 사계절이 있는 우리나라가 참 내가 사는 곳이지만\\n',\n",
       " '내가 너한테 얘기 했었나 우리 아들 며칠 전에 베트남 갔다 (SP:왔가) 왔다고\\n',\n",
       " '(FP:아) 런던\\n',\n",
       " '(FP:어)레몬\\n',\n",
       " '(FP:어)룸메이트\\n',\n",
       " '(FP:어)리더\\n',\n",
       " '(FP:어 )리터\\n',\n",
       " '에이치피(휴렛 팩커드)\\n',\n",
       " '(SN:) 전 트와일라잇이 그렇게 재미있는지 모르겠어요\\n',\n",
       " '에이치피(휴렛 팩커드)\\n',\n",
       " '에이치피(휴렛 팩커드)\\n',\n",
       " '에이치피(휴렛 팩커드)\\n',\n",
       " '에이치피(휴렛 팩커드)\\n',\n",
       " '에이치피(휴렛 팩커드)\\n',\n",
       " '에이치피(휴렛 팩커드)\\n',\n",
       " '에이치피(휴렛 팩커드)\\n',\n",
       " '에이치피(휴렛 팩커드)\\n',\n",
       " '에이치피(휴렛 팩커드)\\n',\n",
       " '에이치피(휴렛 팩커드)\\n',\n",
       " '에이치피(휴렛 팩커드)\\n',\n",
       " '에이치피(휴렛 팩커드)\\n',\n",
       " '에이치피(휴렛 팩커드)\\n',\n",
       " '에이치피(휴렛 팩커드)\\n']"
      ]
     },
     "execution_count": 121,
     "metadata": {},
     "output_type": "execute_result"
    }
   ],
   "source": [
    "sym_including"
   ]
  },
  {
   "cell_type": "code",
   "execution_count": 12,
   "metadata": {},
   "outputs": [],
   "source": [
    "df = pd.DataFrame({'path' : path_list, 'label' : label_list})"
   ]
  },
  {
   "cell_type": "code",
   "execution_count": 13,
   "metadata": {},
   "outputs": [],
   "source": [
    "weird_idx = df[df['label'].apply(lambda x : True if re.compile('\\(휴렛 팩커드\\)').search(x)!=None else False)].index\n",
    "df.drop(index = weird_idx, inplace=True)"
   ]
  },
  {
   "cell_type": "code",
   "execution_count": 14,
   "metadata": {},
   "outputs": [
    {
     "data": {
      "text/html": [
       "<div>\n",
       "<style scoped>\n",
       "    .dataframe tbody tr th:only-of-type {\n",
       "        vertical-align: middle;\n",
       "    }\n",
       "\n",
       "    .dataframe tbody tr th {\n",
       "        vertical-align: top;\n",
       "    }\n",
       "\n",
       "    .dataframe thead th {\n",
       "        text-align: right;\n",
       "    }\n",
       "</style>\n",
       "<table border=\"1\" class=\"dataframe\">\n",
       "  <thead>\n",
       "    <tr style=\"text-align: right;\">\n",
       "      <th></th>\n",
       "      <th>path</th>\n",
       "      <th>label</th>\n",
       "    </tr>\n",
       "  </thead>\n",
       "  <tbody>\n",
       "    <tr>\n",
       "      <th>76388</th>\n",
       "      <td>/Data/etc/Robust_ASR/data/hacka/002.노인남녀(시니어)/...</td>\n",
       "      <td>술은 술은 안 먹어야지 (SP:그르) 그나마 쬐금 도움이 되는 거 같애\\n</td>\n",
       "    </tr>\n",
       "    <tr>\n",
       "      <th>76479</th>\n",
       "      <td>/Data/etc/Robust_ASR/data/hacka/002.노인남녀(시니어)/...</td>\n",
       "      <td>그렇다고 건강관리 안 했다고 해서 (SP:안 아) 안 아픈 것도 아니고\\n</td>\n",
       "    </tr>\n",
       "    <tr>\n",
       "      <th>104337</th>\n",
       "      <td>/Data/etc/Robust_ASR/data/hacka/002.노인남녀(시니어)/...</td>\n",
       "      <td>이게 (SP:사제) 사계절이 있는 우리나라가 참 내가 사는 곳이지만\\n</td>\n",
       "    </tr>\n",
       "    <tr>\n",
       "      <th>115647</th>\n",
       "      <td>/Data/etc/Robust_ASR/data/hacka/002.노인남녀(시니어)/...</td>\n",
       "      <td>내가 너한테 얘기 했었나 우리 아들 며칠 전에 베트남 갔다 (SP:왔가) 왔다고\\n</td>\n",
       "    </tr>\n",
       "    <tr>\n",
       "      <th>261262</th>\n",
       "      <td>/Data/etc/Robust_ASR/data/hacka/004.외래어/외래어_00...</td>\n",
       "      <td>(FP:아) 런던\\n</td>\n",
       "    </tr>\n",
       "    <tr>\n",
       "      <th>261266</th>\n",
       "      <td>/Data/etc/Robust_ASR/data/hacka/004.외래어/외래어_00...</td>\n",
       "      <td>(FP:어)레몬\\n</td>\n",
       "    </tr>\n",
       "    <tr>\n",
       "      <th>261330</th>\n",
       "      <td>/Data/etc/Robust_ASR/data/hacka/004.외래어/외래어_00...</td>\n",
       "      <td>(FP:어)룸메이트\\n</td>\n",
       "    </tr>\n",
       "    <tr>\n",
       "      <th>261338</th>\n",
       "      <td>/Data/etc/Robust_ASR/data/hacka/004.외래어/외래어_00...</td>\n",
       "      <td>(FP:어)리더\\n</td>\n",
       "    </tr>\n",
       "    <tr>\n",
       "      <th>261362</th>\n",
       "      <td>/Data/etc/Robust_ASR/data/hacka/004.외래어/외래어_00...</td>\n",
       "      <td>(FP:어 )리터\\n</td>\n",
       "    </tr>\n",
       "    <tr>\n",
       "      <th>270618</th>\n",
       "      <td>/Data/etc/Robust_ASR/data/hacka/004.외래어/외래어_00...</td>\n",
       "      <td>(SN:) 전 트와일라잇이 그렇게 재미있는지 모르겠어요\\n</td>\n",
       "    </tr>\n",
       "  </tbody>\n",
       "</table>\n",
       "</div>"
      ],
      "text/plain": [
       "                                                     path  \\\n",
       "76388   /Data/etc/Robust_ASR/data/hacka/002.노인남녀(시니어)/...   \n",
       "76479   /Data/etc/Robust_ASR/data/hacka/002.노인남녀(시니어)/...   \n",
       "104337  /Data/etc/Robust_ASR/data/hacka/002.노인남녀(시니어)/...   \n",
       "115647  /Data/etc/Robust_ASR/data/hacka/002.노인남녀(시니어)/...   \n",
       "261262  /Data/etc/Robust_ASR/data/hacka/004.외래어/외래어_00...   \n",
       "261266  /Data/etc/Robust_ASR/data/hacka/004.외래어/외래어_00...   \n",
       "261330  /Data/etc/Robust_ASR/data/hacka/004.외래어/외래어_00...   \n",
       "261338  /Data/etc/Robust_ASR/data/hacka/004.외래어/외래어_00...   \n",
       "261362  /Data/etc/Robust_ASR/data/hacka/004.외래어/외래어_00...   \n",
       "270618  /Data/etc/Robust_ASR/data/hacka/004.외래어/외래어_00...   \n",
       "\n",
       "                                                 label  \n",
       "76388        술은 술은 안 먹어야지 (SP:그르) 그나마 쬐금 도움이 되는 거 같애\\n  \n",
       "76479        그렇다고 건강관리 안 했다고 해서 (SP:안 아) 안 아픈 것도 아니고\\n  \n",
       "104337         이게 (SP:사제) 사계절이 있는 우리나라가 참 내가 사는 곳이지만\\n  \n",
       "115647  내가 너한테 얘기 했었나 우리 아들 며칠 전에 베트남 갔다 (SP:왔가) 왔다고\\n  \n",
       "261262                                     (FP:아) 런던\\n  \n",
       "261266                                      (FP:어)레몬\\n  \n",
       "261330                                    (FP:어)룸메이트\\n  \n",
       "261338                                      (FP:어)리더\\n  \n",
       "261362                                     (FP:어 )리터\\n  \n",
       "270618                (SN:) 전 트와일라잇이 그렇게 재미있는지 모르겠어요\\n  "
      ]
     },
     "execution_count": 14,
     "metadata": {},
     "output_type": "execute_result"
    }
   ],
   "source": [
    "# 특수 기호가 포함된 샘플은 일단 제거 후 시도해본다\n",
    "df[df['label'].apply(lambda x : True if re.compile('\\(\\w.*\\)').search(x)!=None else False)]"
   ]
  },
  {
   "cell_type": "code",
   "execution_count": 15,
   "metadata": {},
   "outputs": [],
   "source": [
    "weird_idx_all = df[df['label'].apply(lambda x : True if re.compile('\\(\\w.*\\)').search(x)!=None else False)].index\n",
    "df.drop(index = weird_idx_all, inplace=True)"
   ]
  },
  {
   "cell_type": "code",
   "execution_count": 169,
   "metadata": {},
   "outputs": [],
   "source": [
    "# df.to_csv('data_df.csv', index=False)"
   ]
  },
  {
   "cell_type": "code",
   "execution_count": null,
   "metadata": {
    "scrolled": true
   },
   "outputs": [],
   "source": [
    "df = pd.read_csv('data_df.csv')\n",
    "df.head()"
   ]
  },
  {
   "cell_type": "markdown",
   "metadata": {},
   "source": [
    "# PCM -> WAV 변환"
   ]
  },
  {
   "cell_type": "code",
   "execution_count": null,
   "metadata": {},
   "outputs": [],
   "source": [
    "# df['path'].apply(lambda x : pcm2wav(x, x.replace('PCM', 'wav')) if os.path.exists(x) else print(x))"
   ]
  },
  {
   "cell_type": "code",
   "execution_count": 17,
   "metadata": {
    "scrolled": true
   },
   "outputs": [
    {
     "name": "stderr",
     "output_type": "stream",
     "text": [
      "319915it [37:55, 140.56it/s] \n"
     ]
    }
   ],
   "source": [
    "non_exists={}\n",
    "for idx, row in tqdm(df.iterrows()):\n",
    "    pcm_path = row['path']\n",
    "    if os.path.exists(pcm_path):\n",
    "        pcm2wav(pcm_path, pcm_path.replace('PCM', 'wav'))\n",
    "    else:\n",
    "        non_exists[idx] = pcm_path\n",
    "        df.drop(index = idx, inplace=True)"
   ]
  },
  {
   "cell_type": "code",
   "execution_count": 18,
   "metadata": {},
   "outputs": [
    {
     "data": {
      "text/plain": [
       "Series([], Name: path, dtype: object)"
      ]
     },
     "execution_count": 18,
     "metadata": {},
     "output_type": "execute_result"
    }
   ],
   "source": [
    "df[df['path'].apply(lambda x : True if re.compile('성인남녀_002_C_030_F_OSS00_44_충청_녹음실.*').search(x) else False)]['path']"
   ]
  },
  {
   "cell_type": "code",
   "execution_count": 19,
   "metadata": {},
   "outputs": [],
   "source": [
    "df.to_csv('dataset_df.csv', index=False)"
   ]
  },
  {
   "cell_type": "markdown",
   "metadata": {},
   "source": [
    "# age 변수추가\n",
    "- 성인남녀 : 0\n",
    "- 시니어 : 1\n",
    "- 어린이 : 2"
   ]
  },
  {
   "cell_type": "code",
   "execution_count": 20,
   "metadata": {},
   "outputs": [],
   "source": [
    "re.compile('00[123]\\..*').match(df.iloc[-1]['path'].split('/')[-3])"
   ]
  },
  {
   "cell_type": "code",
   "execution_count": 21,
   "metadata": {},
   "outputs": [],
   "source": [
    "df_age = df[df['path'].apply(lambda x : bool(re.compile('00[123]\\..*').match(x.split('/')[-3])))] # 004. 외래어 제외"
   ]
  },
  {
   "cell_type": "code",
   "execution_count": 22,
   "metadata": {},
   "outputs": [
    {
     "name": "stderr",
     "output_type": "stream",
     "text": [
      "/usr/local/lib/python3.6/dist-packages/ipykernel_launcher.py:1: SettingWithCopyWarning: \n",
      "A value is trying to be set on a copy of a slice from a DataFrame.\n",
      "Try using .loc[row_indexer,col_indexer] = value instead\n",
      "\n",
      "See the caveats in the documentation: http://pandas.pydata.org/pandas-docs/stable/indexing.html#indexing-view-versus-copy\n",
      "  \"\"\"Entry point for launching an IPython kernel.\n"
     ]
    }
   ],
   "source": [
    "df_age['age'] = df_age['path'].apply(lambda x : x.split('/')[-3].split('.')[1]) # 한글 레이블\n",
    "# df_age['age'] = df_age['path'].apply(lambda x : int(x.split('/')[-3].split('.')[0])-1) # 아예 숫자 레이블로"
   ]
  },
  {
   "cell_type": "code",
   "execution_count": 23,
   "metadata": {},
   "outputs": [],
   "source": [
    "df_age.to_csv('dataset_with_age.csv', index=False)"
   ]
  },
  {
   "cell_type": "markdown",
   "metadata": {},
   "source": [
    "- train, val 나누기"
   ]
  },
  {
   "cell_type": "code",
   "execution_count": 8,
   "metadata": {
    "collapsed": true
   },
   "outputs": [
    {
     "data": {
      "text/html": [
       "<div>\n",
       "<style scoped>\n",
       "    .dataframe tbody tr th:only-of-type {\n",
       "        vertical-align: middle;\n",
       "    }\n",
       "\n",
       "    .dataframe tbody tr th {\n",
       "        vertical-align: top;\n",
       "    }\n",
       "\n",
       "    .dataframe thead th {\n",
       "        text-align: right;\n",
       "    }\n",
       "</style>\n",
       "<table border=\"1\" class=\"dataframe\">\n",
       "  <thead>\n",
       "    <tr style=\"text-align: right;\">\n",
       "      <th></th>\n",
       "      <th>path</th>\n",
       "      <th>label</th>\n",
       "      <th>age</th>\n",
       "    </tr>\n",
       "  </thead>\n",
       "  <tbody>\n",
       "    <tr>\n",
       "      <th>0</th>\n",
       "      <td>/Data/etc/Robust_ASR/data/hacka/001.일반남녀/성인남녀_...</td>\n",
       "      <td>이 대리 아니야\\n</td>\n",
       "      <td>일반남녀</td>\n",
       "    </tr>\n",
       "    <tr>\n",
       "      <th>1</th>\n",
       "      <td>/Data/etc/Robust_ASR/data/hacka/001.일반남녀/성인남녀_...</td>\n",
       "      <td>안녕하세요 일찍 출근하시네요\\n</td>\n",
       "      <td>일반남녀</td>\n",
       "    </tr>\n",
       "    <tr>\n",
       "      <th>2</th>\n",
       "      <td>/Data/etc/Robust_ASR/data/hacka/001.일반남녀/성인남녀_...</td>\n",
       "      <td>만원 지하철을 타면 하루 종일 피곤해서 일을 못하겠더라구\\n</td>\n",
       "      <td>일반남녀</td>\n",
       "    </tr>\n",
       "    <tr>\n",
       "      <th>3</th>\n",
       "      <td>/Data/etc/Robust_ASR/data/hacka/001.일반남녀/성인남녀_...</td>\n",
       "      <td>저도요\\n</td>\n",
       "      <td>일반남녀</td>\n",
       "    </tr>\n",
       "    <tr>\n",
       "      <th>4</th>\n",
       "      <td>/Data/etc/Robust_ASR/data/hacka/001.일반남녀/성인남녀_...</td>\n",
       "      <td>그래서 아침밥은 포기하고 삼십 분 일찍 출근하기로 했어요\\n</td>\n",
       "      <td>일반남녀</td>\n",
       "    </tr>\n",
       "  </tbody>\n",
       "</table>\n",
       "</div>"
      ],
      "text/plain": [
       "                                                path  \\\n",
       "0  /Data/etc/Robust_ASR/data/hacka/001.일반남녀/성인남녀_...   \n",
       "1  /Data/etc/Robust_ASR/data/hacka/001.일반남녀/성인남녀_...   \n",
       "2  /Data/etc/Robust_ASR/data/hacka/001.일반남녀/성인남녀_...   \n",
       "3  /Data/etc/Robust_ASR/data/hacka/001.일반남녀/성인남녀_...   \n",
       "4  /Data/etc/Robust_ASR/data/hacka/001.일반남녀/성인남녀_...   \n",
       "\n",
       "                               label   age  \n",
       "0                         이 대리 아니야\\n  일반남녀  \n",
       "1                  안녕하세요 일찍 출근하시네요\\n  일반남녀  \n",
       "2  만원 지하철을 타면 하루 종일 피곤해서 일을 못하겠더라구\\n  일반남녀  \n",
       "3                              저도요\\n  일반남녀  \n",
       "4  그래서 아침밥은 포기하고 삼십 분 일찍 출근하기로 했어요\\n  일반남녀  "
      ]
     },
     "execution_count": 8,
     "metadata": {},
     "output_type": "execute_result"
    }
   ],
   "source": [
    "df_age = pd.read_csv('dataset_with_age.csv')\n",
    "df_age.head()"
   ]
  },
  {
   "cell_type": "code",
   "execution_count": 9,
   "metadata": {},
   "outputs": [],
   "source": [
    "df_age.reset_index(drop=True, inplace=True)"
   ]
  },
  {
   "cell_type": "code",
   "execution_count": 10,
   "metadata": {},
   "outputs": [],
   "source": [
    "df_age['label'] = df_age['label'].apply(lambda x : x.replace('\\n', '').replace(',', ''))"
   ]
  },
  {
   "cell_type": "code",
   "execution_count": 11,
   "metadata": {},
   "outputs": [],
   "source": [
    "random_idx = np.random.choice(df_age.index, size = int(len(df_age) * 0.8), replace=False)\n",
    "train_index = np.zeros(len(df_age), dtype=bool)\n",
    "train_index[random_idx] = True"
   ]
  },
  {
   "cell_type": "code",
   "execution_count": 12,
   "metadata": {
    "scrolled": true
   },
   "outputs": [],
   "source": [
    "df_age_train = df_age[train_index]\n",
    "df_age_val = df_age[~train_index]"
   ]
  },
  {
   "cell_type": "code",
   "execution_count": 13,
   "metadata": {},
   "outputs": [
    {
     "name": "stderr",
     "output_type": "stream",
     "text": [
      "/usr/local/lib/python3.6/dist-packages/ipykernel_launcher.py:1: SettingWithCopyWarning: \n",
      "A value is trying to be set on a copy of a slice from a DataFrame.\n",
      "Try using .loc[row_indexer,col_indexer] = value instead\n",
      "\n",
      "See the caveats in the documentation: http://pandas.pydata.org/pandas-docs/stable/indexing.html#indexing-view-versus-copy\n",
      "  \"\"\"Entry point for launching an IPython kernel.\n",
      "/usr/local/lib/python3.6/dist-packages/ipykernel_launcher.py:2: SettingWithCopyWarning: \n",
      "A value is trying to be set on a copy of a slice from a DataFrame.\n",
      "Try using .loc[row_indexer,col_indexer] = value instead\n",
      "\n",
      "See the caveats in the documentation: http://pandas.pydata.org/pandas-docs/stable/indexing.html#indexing-view-versus-copy\n",
      "  \n"
     ]
    }
   ],
   "source": [
    "df_age_train['path'] = df_age_train['path'].apply(lambda x : x.replace('PCM','wav'))\n",
    "df_age_val['path'] = df_age_val['path'].apply(lambda x : x.replace('PCM','wav'))"
   ]
  },
  {
   "cell_type": "code",
   "execution_count": 14,
   "metadata": {
    "scrolled": true
   },
   "outputs": [],
   "source": [
    "# df_age_train.to_csv('./data/csvs/dataset_with_age_train.csv', index=False, header=False)\n",
    "# df_age_val.to_csv('./data/csvs/dataset_with_age_val.csv', index=False, header=False)"
   ]
  },
  {
   "cell_type": "code",
   "execution_count": 19,
   "metadata": {},
   "outputs": [],
   "source": [
    "df_age_train = pd.read_csv('./data/csvs/dataset_with_age_train.csv', names = ['path','label','age'])\n",
    "df_age_val = pd.read_csv('./data/csvs/dataset_with_age_val.csv', names = ['path','label','age'])"
   ]
  },
  {
   "cell_type": "code",
   "execution_count": null,
   "metadata": {},
   "outputs": [],
   "source": [
    "## df_age_train[df_age_train['label'].apply(lambda x : True if re.compile('화면이 한꺼번에.*').search(x) else False )]"
   ]
  },
  {
   "cell_type": "code",
   "execution_count": 374,
   "metadata": {},
   "outputs": [
    {
     "data": {
      "text/plain": [
       "'/Data/etc/Robust_ASR/data/hacka/002.노인남녀(시니어)/시니어_007_C_011_F_HJS00_64_수도권_녹음실/시니어_007_C_011_F_HJS00_64_수도권_녹음실_07298.wav'"
      ]
     },
     "execution_count": 374,
     "metadata": {},
     "output_type": "execute_result"
    }
   ],
   "source": [
    "df_age_train['path'].loc[79020]"
   ]
  },
  {
   "cell_type": "code",
   "execution_count": 41,
   "metadata": {},
   "outputs": [],
   "source": [
    "df_age_train['length'] = df_age_train['label'].apply(lambda x : len(x)) #length 알아보기\n",
    "df_age_val['length'] = df_age_val['label'].apply(lambda x : len(x)) #length 알아보기"
   ]
  },
  {
   "cell_type": "code",
   "execution_count": 380,
   "metadata": {},
   "outputs": [],
   "source": [
    "pcm2wav(df_age_train['path'].loc[85242].replace('wav','PCM'), 'old2.wav')"
   ]
  },
  {
   "cell_type": "markdown",
   "metadata": {},
   "source": [
    "# 2. ai hub data"
   ]
  },
  {
   "cell_type": "code",
   "execution_count": 2,
   "metadata": {
    "collapsed": true
   },
   "outputs": [
    {
     "data": {
      "text/plain": [
       "['KsponSpeech_01.zip',\n",
       " 'KsponSpeech_02.zip',\n",
       " 'KsponSpeech_03.zip',\n",
       " 'KsponSpeech_04.zip',\n",
       " 'KsponSpeech_05.zip',\n",
       " 'KsponSpeech_eval.zip',\n",
       " 'KsponSpeech_scripts.zip',\n",
       " 'KsponSpeech_01',\n",
       " 'KsponSpeech_02',\n",
       " 'KsponSpeech_03',\n",
       " 'KsponSpeech_04',\n",
       " 'KsponSpeech_05',\n",
       " 'dev.trn',\n",
       " 'eval_clean.trn',\n",
       " 'eval_other.trn',\n",
       " 'train.trn',\n",
       " 'eval_clean',\n",
       " 'eval_other',\n",
       " '.train.trn.swp']"
      ]
     },
     "execution_count": 2,
     "metadata": {},
     "output_type": "execute_result"
    }
   ],
   "source": [
    "aihub_path = '/Data/etc/Robust_ASR/data/aihub'\n",
    "os.listdir(aihub_path)"
   ]
  },
  {
   "cell_type": "code",
   "execution_count": 50,
   "metadata": {},
   "outputs": [],
   "source": [
    "def aihub_df_pp(label_file):\n",
    "    path_list = []\n",
    "    ts_list = []\n",
    "    with open(os.path.join(aihub_path, label_file), 'r') as f:\n",
    "        while True:\n",
    "            row = f.readline()\n",
    "            if not row:\n",
    "                break\n",
    "            path, ts = row.split('::')\n",
    "            path = os.path.join(aihub_path, path.strip())\n",
    "            ts = ts.strip().replace(',', '').replace('.','')  # 쉼표 마침표 제거\n",
    "            ts = ts.replace('b/', '' ).replace('l/', '').replace('n/', '').replace('o/','') #한숨, 웃음, 노이즈, 다른사람 말소리 제거\n",
    "            path_list.append(path)\n",
    "            ts_list.append(ts)\n",
    "\n",
    "    aihub_df = pd.DataFrame({'path' : path_list, 'label' : ts_list})\n",
    "\n",
    "    # delete unrecognizable sample\n",
    "    unrecog_idx = aihub_df[aihub_df['label'].apply(lambda x : True if re.compile('u/').search(x) else False)].index\n",
    "    aihub_df = aihub_df.drop(index=unrecog_idx)\n",
    "\n",
    "    # 이중전사를 발음전사로 변경!\n",
    "    aihub_df[aihub_df['label'].apply(lambda x : True if re.compile('\\(.*\\)/\\(.*\\)').search(x) else False)] # 눈으료 확인용\n",
    "    aihub_df = aihub_df.replace('\\(\\d*.*\\)/', '',regex=True)\n",
    "    aihub_df = aihub_df.replace('\\(','', regex=True).replace('\\)', '', regex=True)\n",
    "\n",
    "    # * 샘플처리\n",
    "    star_idx = aihub_df[aihub_df['label'].apply(lambda x : True if re.compile('\\*').search(x) else False)].index\n",
    "    aihub_df = aihub_df.drop(index = star_idx)\n",
    "\n",
    "    # + 샘플처리 ->지운다\n",
    "    plus_idx = aihub_df[aihub_df['label'].apply(lambda x : True if re.compile('\\+').search(x) else False)].index\n",
    "    aihub_df = aihub_df.drop(index = plus_idx)\n",
    "    \n",
    "    # 간투어 제거\n",
    "    aihub_df = aihub_df.replace('[가-핳]/', '', regex=True)\n",
    "    aihub_df = aihub_df.replace('\\?', '', regex=True)  # 물음표 제거\n",
    "\n",
    "    return aihub_df"
   ]
  },
  {
   "cell_type": "code",
   "execution_count": 51,
   "metadata": {},
   "outputs": [],
   "source": [
    "aihub_train = aihub_df_pp('train.trn')\n",
    "aihub_dev = aihub_df_pp('dev.trn')\n",
    "aihub_eval_clean = aihub_df_pp('eval_clean.trn')\n",
    "aihub_eval_other = aihub_df_pp('eval_other.trn')"
   ]
  },
  {
   "cell_type": "code",
   "execution_count": 67,
   "metadata": {},
   "outputs": [],
   "source": [
    "aihub = pd.concat([aihub_train, aihub_dev, aihub_eval_clean, aihub_eval_other], axis=0, ignore_index=True)"
   ]
  },
  {
   "cell_type": "code",
   "execution_count": 68,
   "metadata": {
    "scrolled": true
   },
   "outputs": [],
   "source": [
    "aihub['label'] = aihub['label'].apply(lambda x: x.strip())\n",
    "aihub['length'] = aihub['label'].apply(lambda x : len(x))"
   ]
  },
  {
   "cell_type": "code",
   "execution_count": 70,
   "metadata": {
    "scrolled": true
   },
   "outputs": [],
   "source": [
    "# garbage delete\n",
    "garbage_idx = aihub[aihub['label'].apply(lambda x : True if re.compile('[^가-힣\\s]').search(x) else False)] .index\n",
    "aihub.drop(index=garbage_idx,  inplace=True)"
   ]
  },
  {
   "cell_type": "code",
   "execution_count": 77,
   "metadata": {
    "scrolled": true
   },
   "outputs": [],
   "source": [
    "aihub.drop(index= aihub[aihub['length']==0].index, inplace=True) #  length 0 delete\n",
    "aihub.drop(index = aihub[aihub['length'] > 90].index, inplace=True) # length over 100 delete"
   ]
  },
  {
   "cell_type": "code",
   "execution_count": 78,
   "metadata": {
    "collapsed": true
   },
   "outputs": [
    {
     "data": {
      "text/html": [
       "<div>\n",
       "<style scoped>\n",
       "    .dataframe tbody tr th:only-of-type {\n",
       "        vertical-align: middle;\n",
       "    }\n",
       "\n",
       "    .dataframe tbody tr th {\n",
       "        vertical-align: top;\n",
       "    }\n",
       "\n",
       "    .dataframe thead th {\n",
       "        text-align: right;\n",
       "    }\n",
       "</style>\n",
       "<table border=\"1\" class=\"dataframe\">\n",
       "  <thead>\n",
       "    <tr style=\"text-align: right;\">\n",
       "      <th></th>\n",
       "      <th>path</th>\n",
       "      <th>label</th>\n",
       "      <th>length</th>\n",
       "    </tr>\n",
       "  </thead>\n",
       "  <tbody>\n",
       "    <tr>\n",
       "      <th>470866</th>\n",
       "      <td>/Data/etc/Robust_ASR/data/aihub/KsponSpeech_05...</td>\n",
       "      <td>나 진짜 살면서 클럽 한 번은 가보고 싶었거든  약간 로망이잖아 궁금하잖아  가보고...</td>\n",
       "      <td>90</td>\n",
       "    </tr>\n",
       "    <tr>\n",
       "      <th>409453</th>\n",
       "      <td>/Data/etc/Robust_ASR/data/aihub/KsponSpeech_05...</td>\n",
       "      <td>내가 생각하고 있는 전형 이라고 해야 되나  게 아마 내가 알기로는 토플이랑 면접만...</td>\n",
       "      <td>90</td>\n",
       "    </tr>\n",
       "    <tr>\n",
       "      <th>129688</th>\n",
       "      <td>/Data/etc/Robust_ASR/data/aihub/KsponSpeech_02...</td>\n",
       "      <td>다른 사람은 나보다 한 이만 원 더 받아 근데 그 사람들이 받는 이유가  거기 팀장...</td>\n",
       "      <td>90</td>\n",
       "    </tr>\n",
       "    <tr>\n",
       "      <th>454527</th>\n",
       "      <td>/Data/etc/Robust_ASR/data/aihub/KsponSpeech_05...</td>\n",
       "      <td>맨 앞은 구천 원인가 그러고 중간이 만 원인가 그리고 원래 보통 사람들이 선호하는 ...</td>\n",
       "      <td>90</td>\n",
       "    </tr>\n",
       "    <tr>\n",
       "      <th>492696</th>\n",
       "      <td>/Data/etc/Robust_ASR/data/aihub/KsponSpeech_05...</td>\n",
       "      <td>아무튼 같이 뭔가 같이 임무를 맡으면은 걔가 먼저 나서서 해 버려 그래서 내가 할 ...</td>\n",
       "      <td>90</td>\n",
       "    </tr>\n",
       "    <tr>\n",
       "      <th>409476</th>\n",
       "      <td>/Data/etc/Robust_ASR/data/aihub/KsponSpeech_05...</td>\n",
       "      <td>그래 가지고 우리 넷이서 가면은 한 삼 인분 시키고 다 먹고 나서 어 뽂음밥 한 세...</td>\n",
       "      <td>90</td>\n",
       "    </tr>\n",
       "    <tr>\n",
       "      <th>478095</th>\n",
       "      <td>/Data/etc/Robust_ASR/data/aihub/KsponSpeech_05...</td>\n",
       "      <td>수영장 있구 집 한 채를 다 빌리는 거래 근데 방도 많아서  아 그러면 시간 맞는 ...</td>\n",
       "      <td>90</td>\n",
       "    </tr>\n",
       "    <tr>\n",
       "      <th>61142</th>\n",
       "      <td>/Data/etc/Robust_ASR/data/aihub/KsponSpeech_01...</td>\n",
       "      <td>왜 안 취했냐고   몰라 아니 그날 나 안 그래도 감기 걸려서  아 오늘 진짜 컨디...</td>\n",
       "      <td>90</td>\n",
       "    </tr>\n",
       "    <tr>\n",
       "      <th>40201</th>\n",
       "      <td>/Data/etc/Robust_ASR/data/aihub/KsponSpeech_01...</td>\n",
       "      <td>많이 별로인 거 같아 우리 같은 경우도   인터넷엔  얘네 왜 이러냐 얜 싫다 이러...</td>\n",
       "      <td>90</td>\n",
       "    </tr>\n",
       "    <tr>\n",
       "      <th>260726</th>\n",
       "      <td>/Data/etc/Robust_ASR/data/aihub/KsponSpeech_03...</td>\n",
       "      <td>왜냐면 나도 옛날에 새우 먹고 식중독을 걸린 적이 있어가지고  새우 머리가 안 익었...</td>\n",
       "      <td>90</td>\n",
       "    </tr>\n",
       "    <tr>\n",
       "      <th>168404</th>\n",
       "      <td>/Data/etc/Robust_ASR/data/aihub/KsponSpeech_02...</td>\n",
       "      <td>어 그 본인만 힘들지 좀 뭐 어쨌든 청소하는 것도 누구한테 부탁해도 되고 하는데 나...</td>\n",
       "      <td>90</td>\n",
       "    </tr>\n",
       "    <tr>\n",
       "      <th>454825</th>\n",
       "      <td>/Data/etc/Robust_ASR/data/aihub/KsponSpeech_05...</td>\n",
       "      <td>주름진 얼굴에 화장을 해서  나중에 오 오가 돼서 더 지저분해지는 거보다  그대로 ...</td>\n",
       "      <td>90</td>\n",
       "    </tr>\n",
       "    <tr>\n",
       "      <th>306282</th>\n",
       "      <td>/Data/etc/Robust_ASR/data/aihub/KsponSpeech_04...</td>\n",
       "      <td>근데 이게 한도가 작으면 좋드라고 한도가 낮으면 그래도 쓸 때마다 그 한도가 있으니...</td>\n",
       "      <td>90</td>\n",
       "    </tr>\n",
       "    <tr>\n",
       "      <th>156582</th>\n",
       "      <td>/Data/etc/Robust_ASR/data/aihub/KsponSpeech_02...</td>\n",
       "      <td>솔직히 제명이야 나 나 경고 두 번이야 그니까  명시하지 않았지  출석하는 오빠가 ...</td>\n",
       "      <td>90</td>\n",
       "    </tr>\n",
       "    <tr>\n",
       "      <th>177704</th>\n",
       "      <td>/Data/etc/Robust_ASR/data/aihub/KsponSpeech_02...</td>\n",
       "      <td>이번 주는 오늘 쉬고 저번 주는 수요일 날 셨나  자기가 원할 때 셔  그리고 되게...</td>\n",
       "      <td>90</td>\n",
       "    </tr>\n",
       "    <tr>\n",
       "      <th>103601</th>\n",
       "      <td>/Data/etc/Robust_ASR/data/aihub/KsponSpeech_02...</td>\n",
       "      <td>양송이 스프 안에  소보루 가루 있잖아 그런 걸 뿌리면은 이게 부풀어 올라가 주구 ...</td>\n",
       "      <td>90</td>\n",
       "    </tr>\n",
       "    <tr>\n",
       "      <th>156680</th>\n",
       "      <td>/Data/etc/Robust_ASR/data/aihub/KsponSpeech_02...</td>\n",
       "      <td>언니가 항상 애들 밥 주러 올라가더라고 점심시간에 그서   언니 올라가실 거면 내 ...</td>\n",
       "      <td>90</td>\n",
       "    </tr>\n",
       "    <tr>\n",
       "      <th>445330</th>\n",
       "      <td>/Data/etc/Robust_ASR/data/aihub/KsponSpeech_05...</td>\n",
       "      <td>근데 그거 보고 좀 놀랐어 나는  드라마 내용이 쫌 과장됐다고 생각했는데 그거보다 ...</td>\n",
       "      <td>90</td>\n",
       "    </tr>\n",
       "    <tr>\n",
       "      <th>259981</th>\n",
       "      <td>/Data/etc/Robust_ASR/data/aihub/KsponSpeech_03...</td>\n",
       "      <td>그러고   그런 식으로 해서 밴드 음악 그렇게 해서 락 음악으로 갔다가 갑자기 락 ...</td>\n",
       "      <td>90</td>\n",
       "    </tr>\n",
       "    <tr>\n",
       "      <th>362152</th>\n",
       "      <td>/Data/etc/Robust_ASR/data/aihub/KsponSpeech_04...</td>\n",
       "      <td>고기랑 밀가루랑 다 알레르기가 있어서 귀  간지러워하잖아 그래서   진짜 우리는 다...</td>\n",
       "      <td>90</td>\n",
       "    </tr>\n",
       "    <tr>\n",
       "      <th>168164</th>\n",
       "      <td>/Data/etc/Robust_ASR/data/aihub/KsponSpeech_02...</td>\n",
       "      <td>까 예를 들면    그런 거 비슷한 그런 법을 회사에서 일요일 날 출근한 게 원칙이...</td>\n",
       "      <td>90</td>\n",
       "    </tr>\n",
       "    <tr>\n",
       "      <th>18398</th>\n",
       "      <td>/Data/etc/Robust_ASR/data/aihub/KsponSpeech_01...</td>\n",
       "      <td>때 막 한창 할 때도 며칠 전에 할 때도 그냥 친구랑 같이 친구가 저기 일 끝나갖고...</td>\n",
       "      <td>90</td>\n",
       "    </tr>\n",
       "    <tr>\n",
       "      <th>102438</th>\n",
       "      <td>/Data/etc/Robust_ASR/data/aihub/KsponSpeech_02...</td>\n",
       "      <td>그 릴선 그 전기선 연결하고 그래서 아침 가서 한 그거 한 한 시간 반 정도 했나 ...</td>\n",
       "      <td>90</td>\n",
       "    </tr>\n",
       "    <tr>\n",
       "      <th>101520</th>\n",
       "      <td>/Data/etc/Robust_ASR/data/aihub/KsponSpeech_02...</td>\n",
       "      <td>나는 일단 그런 거에 대해서 들어본 적은 없고 그냥 학교에서 제공하는 거 하면은 그...</td>\n",
       "      <td>90</td>\n",
       "    </tr>\n",
       "    <tr>\n",
       "      <th>102254</th>\n",
       "      <td>/Data/etc/Robust_ASR/data/aihub/KsponSpeech_02...</td>\n",
       "      <td>그 띠고 그리고 그때 수주가  쫌 프로모션 이상한 거 쫌 많이 해가지고 갑자기 약간...</td>\n",
       "      <td>90</td>\n",
       "    </tr>\n",
       "    <tr>\n",
       "      <th>101632</th>\n",
       "      <td>/Data/etc/Robust_ASR/data/aihub/KsponSpeech_02...</td>\n",
       "      <td>물론 널 주려고 산 건 아니지마는 내가 안 쓰는 물건이지 그래도  음악 장비긴 하니...</td>\n",
       "      <td>90</td>\n",
       "    </tr>\n",
       "    <tr>\n",
       "      <th>81277</th>\n",
       "      <td>/Data/etc/Robust_ASR/data/aihub/KsponSpeech_01...</td>\n",
       "      <td>간혹가다가 저는 그냥 그런 사람이라고 생각하는데 어떤 사람들 중에서는 저를 괜찮게 ...</td>\n",
       "      <td>90</td>\n",
       "    </tr>\n",
       "    <tr>\n",
       "      <th>155680</th>\n",
       "      <td>/Data/etc/Robust_ASR/data/aihub/KsponSpeech_02...</td>\n",
       "      <td>안 듣지 나는  유튜브 하니깐  유튜브만 보니까  모르겠어 라디오보단 떠빙이 쫌 더...</td>\n",
       "      <td>90</td>\n",
       "    </tr>\n",
       "    <tr>\n",
       "      <th>409160</th>\n",
       "      <td>/Data/etc/Robust_ASR/data/aihub/KsponSpeech_05...</td>\n",
       "      <td>어 그래서 일본 같은 델 가면은 우리나라 사람들이 되게 많잖아  서 사실 해외 왔단...</td>\n",
       "      <td>90</td>\n",
       "    </tr>\n",
       "    <tr>\n",
       "      <th>454182</th>\n",
       "      <td>/Data/etc/Robust_ASR/data/aihub/KsponSpeech_05...</td>\n",
       "      <td>맞아 맞아 어린이 대상이 주고 주로 어린이로 하는 게 제일 길고 근데 성인 발레도 ...</td>\n",
       "      <td>90</td>\n",
       "    </tr>\n",
       "    <tr>\n",
       "      <th>...</th>\n",
       "      <td>...</td>\n",
       "      <td>...</td>\n",
       "      <td>...</td>\n",
       "    </tr>\n",
       "    <tr>\n",
       "      <th>331956</th>\n",
       "      <td>/Data/etc/Robust_ASR/data/aihub/KsponSpeech_04...</td>\n",
       "      <td>아</td>\n",
       "      <td>1</td>\n",
       "    </tr>\n",
       "    <tr>\n",
       "      <th>118569</th>\n",
       "      <td>/Data/etc/Robust_ASR/data/aihub/KsponSpeech_02...</td>\n",
       "      <td>어</td>\n",
       "      <td>1</td>\n",
       "    </tr>\n",
       "    <tr>\n",
       "      <th>14655</th>\n",
       "      <td>/Data/etc/Robust_ASR/data/aihub/KsponSpeech_01...</td>\n",
       "      <td>아</td>\n",
       "      <td>1</td>\n",
       "    </tr>\n",
       "    <tr>\n",
       "      <th>224687</th>\n",
       "      <td>/Data/etc/Robust_ASR/data/aihub/KsponSpeech_03...</td>\n",
       "      <td>응</td>\n",
       "      <td>1</td>\n",
       "    </tr>\n",
       "    <tr>\n",
       "      <th>255227</th>\n",
       "      <td>/Data/etc/Robust_ASR/data/aihub/KsponSpeech_03...</td>\n",
       "      <td>한</td>\n",
       "      <td>1</td>\n",
       "    </tr>\n",
       "    <tr>\n",
       "      <th>418023</th>\n",
       "      <td>/Data/etc/Robust_ASR/data/aihub/KsponSpeech_05...</td>\n",
       "      <td>응</td>\n",
       "      <td>1</td>\n",
       "    </tr>\n",
       "    <tr>\n",
       "      <th>50699</th>\n",
       "      <td>/Data/etc/Robust_ASR/data/aihub/KsponSpeech_01...</td>\n",
       "      <td>어</td>\n",
       "      <td>1</td>\n",
       "    </tr>\n",
       "    <tr>\n",
       "      <th>50696</th>\n",
       "      <td>/Data/etc/Robust_ASR/data/aihub/KsponSpeech_01...</td>\n",
       "      <td>왜</td>\n",
       "      <td>1</td>\n",
       "    </tr>\n",
       "    <tr>\n",
       "      <th>453568</th>\n",
       "      <td>/Data/etc/Robust_ASR/data/aihub/KsponSpeech_05...</td>\n",
       "      <td>어</td>\n",
       "      <td>1</td>\n",
       "    </tr>\n",
       "    <tr>\n",
       "      <th>83579</th>\n",
       "      <td>/Data/etc/Robust_ASR/data/aihub/KsponSpeech_01...</td>\n",
       "      <td>응</td>\n",
       "      <td>1</td>\n",
       "    </tr>\n",
       "    <tr>\n",
       "      <th>236188</th>\n",
       "      <td>/Data/etc/Robust_ASR/data/aihub/KsponSpeech_03...</td>\n",
       "      <td>그</td>\n",
       "      <td>1</td>\n",
       "    </tr>\n",
       "    <tr>\n",
       "      <th>14617</th>\n",
       "      <td>/Data/etc/Robust_ASR/data/aihub/KsponSpeech_01...</td>\n",
       "      <td>응</td>\n",
       "      <td>1</td>\n",
       "    </tr>\n",
       "    <tr>\n",
       "      <th>154601</th>\n",
       "      <td>/Data/etc/Robust_ASR/data/aihub/KsponSpeech_02...</td>\n",
       "      <td>음</td>\n",
       "      <td>1</td>\n",
       "    </tr>\n",
       "    <tr>\n",
       "      <th>472740</th>\n",
       "      <td>/Data/etc/Robust_ASR/data/aihub/KsponSpeech_05...</td>\n",
       "      <td>응</td>\n",
       "      <td>1</td>\n",
       "    </tr>\n",
       "    <tr>\n",
       "      <th>382134</th>\n",
       "      <td>/Data/etc/Robust_ASR/data/aihub/KsponSpeech_04...</td>\n",
       "      <td>아</td>\n",
       "      <td>1</td>\n",
       "    </tr>\n",
       "    <tr>\n",
       "      <th>193780</th>\n",
       "      <td>/Data/etc/Robust_ASR/data/aihub/KsponSpeech_02...</td>\n",
       "      <td>아</td>\n",
       "      <td>1</td>\n",
       "    </tr>\n",
       "    <tr>\n",
       "      <th>470399</th>\n",
       "      <td>/Data/etc/Robust_ASR/data/aihub/KsponSpeech_05...</td>\n",
       "      <td>뭐</td>\n",
       "      <td>1</td>\n",
       "    </tr>\n",
       "    <tr>\n",
       "      <th>14654</th>\n",
       "      <td>/Data/etc/Robust_ASR/data/aihub/KsponSpeech_01...</td>\n",
       "      <td>응</td>\n",
       "      <td>1</td>\n",
       "    </tr>\n",
       "    <tr>\n",
       "      <th>360012</th>\n",
       "      <td>/Data/etc/Robust_ASR/data/aihub/KsponSpeech_04...</td>\n",
       "      <td>어</td>\n",
       "      <td>1</td>\n",
       "    </tr>\n",
       "    <tr>\n",
       "      <th>359995</th>\n",
       "      <td>/Data/etc/Robust_ASR/data/aihub/KsponSpeech_04...</td>\n",
       "      <td>왜</td>\n",
       "      <td>1</td>\n",
       "    </tr>\n",
       "    <tr>\n",
       "      <th>193775</th>\n",
       "      <td>/Data/etc/Robust_ASR/data/aihub/KsponSpeech_02...</td>\n",
       "      <td>음</td>\n",
       "      <td>1</td>\n",
       "    </tr>\n",
       "    <tr>\n",
       "      <th>110605</th>\n",
       "      <td>/Data/etc/Robust_ASR/data/aihub/KsponSpeech_02...</td>\n",
       "      <td>응</td>\n",
       "      <td>1</td>\n",
       "    </tr>\n",
       "    <tr>\n",
       "      <th>154655</th>\n",
       "      <td>/Data/etc/Robust_ASR/data/aihub/KsponSpeech_02...</td>\n",
       "      <td>응</td>\n",
       "      <td>1</td>\n",
       "    </tr>\n",
       "    <tr>\n",
       "      <th>393534</th>\n",
       "      <td>/Data/etc/Robust_ASR/data/aihub/KsponSpeech_04...</td>\n",
       "      <td>응</td>\n",
       "      <td>1</td>\n",
       "    </tr>\n",
       "    <tr>\n",
       "      <th>382136</th>\n",
       "      <td>/Data/etc/Robust_ASR/data/aihub/KsponSpeech_04...</td>\n",
       "      <td>예</td>\n",
       "      <td>1</td>\n",
       "    </tr>\n",
       "    <tr>\n",
       "      <th>331909</th>\n",
       "      <td>/Data/etc/Robust_ASR/data/aihub/KsponSpeech_04...</td>\n",
       "      <td>왜</td>\n",
       "      <td>1</td>\n",
       "    </tr>\n",
       "    <tr>\n",
       "      <th>224750</th>\n",
       "      <td>/Data/etc/Robust_ASR/data/aihub/KsponSpeech_03...</td>\n",
       "      <td>어</td>\n",
       "      <td>1</td>\n",
       "    </tr>\n",
       "    <tr>\n",
       "      <th>340423</th>\n",
       "      <td>/Data/etc/Robust_ASR/data/aihub/KsponSpeech_04...</td>\n",
       "      <td>너</td>\n",
       "      <td>1</td>\n",
       "    </tr>\n",
       "    <tr>\n",
       "      <th>110606</th>\n",
       "      <td>/Data/etc/Robust_ASR/data/aihub/KsponSpeech_02...</td>\n",
       "      <td>어</td>\n",
       "      <td>1</td>\n",
       "    </tr>\n",
       "    <tr>\n",
       "      <th>362009</th>\n",
       "      <td>/Data/etc/Robust_ASR/data/aihub/KsponSpeech_04...</td>\n",
       "      <td>응</td>\n",
       "      <td>1</td>\n",
       "    </tr>\n",
       "  </tbody>\n",
       "</table>\n",
       "<p>474650 rows × 3 columns</p>\n",
       "</div>"
      ],
      "text/plain": [
       "                                                     path  \\\n",
       "470866  /Data/etc/Robust_ASR/data/aihub/KsponSpeech_05...   \n",
       "409453  /Data/etc/Robust_ASR/data/aihub/KsponSpeech_05...   \n",
       "129688  /Data/etc/Robust_ASR/data/aihub/KsponSpeech_02...   \n",
       "454527  /Data/etc/Robust_ASR/data/aihub/KsponSpeech_05...   \n",
       "492696  /Data/etc/Robust_ASR/data/aihub/KsponSpeech_05...   \n",
       "409476  /Data/etc/Robust_ASR/data/aihub/KsponSpeech_05...   \n",
       "478095  /Data/etc/Robust_ASR/data/aihub/KsponSpeech_05...   \n",
       "61142   /Data/etc/Robust_ASR/data/aihub/KsponSpeech_01...   \n",
       "40201   /Data/etc/Robust_ASR/data/aihub/KsponSpeech_01...   \n",
       "260726  /Data/etc/Robust_ASR/data/aihub/KsponSpeech_03...   \n",
       "168404  /Data/etc/Robust_ASR/data/aihub/KsponSpeech_02...   \n",
       "454825  /Data/etc/Robust_ASR/data/aihub/KsponSpeech_05...   \n",
       "306282  /Data/etc/Robust_ASR/data/aihub/KsponSpeech_04...   \n",
       "156582  /Data/etc/Robust_ASR/data/aihub/KsponSpeech_02...   \n",
       "177704  /Data/etc/Robust_ASR/data/aihub/KsponSpeech_02...   \n",
       "103601  /Data/etc/Robust_ASR/data/aihub/KsponSpeech_02...   \n",
       "156680  /Data/etc/Robust_ASR/data/aihub/KsponSpeech_02...   \n",
       "445330  /Data/etc/Robust_ASR/data/aihub/KsponSpeech_05...   \n",
       "259981  /Data/etc/Robust_ASR/data/aihub/KsponSpeech_03...   \n",
       "362152  /Data/etc/Robust_ASR/data/aihub/KsponSpeech_04...   \n",
       "168164  /Data/etc/Robust_ASR/data/aihub/KsponSpeech_02...   \n",
       "18398   /Data/etc/Robust_ASR/data/aihub/KsponSpeech_01...   \n",
       "102438  /Data/etc/Robust_ASR/data/aihub/KsponSpeech_02...   \n",
       "101520  /Data/etc/Robust_ASR/data/aihub/KsponSpeech_02...   \n",
       "102254  /Data/etc/Robust_ASR/data/aihub/KsponSpeech_02...   \n",
       "101632  /Data/etc/Robust_ASR/data/aihub/KsponSpeech_02...   \n",
       "81277   /Data/etc/Robust_ASR/data/aihub/KsponSpeech_01...   \n",
       "155680  /Data/etc/Robust_ASR/data/aihub/KsponSpeech_02...   \n",
       "409160  /Data/etc/Robust_ASR/data/aihub/KsponSpeech_05...   \n",
       "454182  /Data/etc/Robust_ASR/data/aihub/KsponSpeech_05...   \n",
       "...                                                   ...   \n",
       "331956  /Data/etc/Robust_ASR/data/aihub/KsponSpeech_04...   \n",
       "118569  /Data/etc/Robust_ASR/data/aihub/KsponSpeech_02...   \n",
       "14655   /Data/etc/Robust_ASR/data/aihub/KsponSpeech_01...   \n",
       "224687  /Data/etc/Robust_ASR/data/aihub/KsponSpeech_03...   \n",
       "255227  /Data/etc/Robust_ASR/data/aihub/KsponSpeech_03...   \n",
       "418023  /Data/etc/Robust_ASR/data/aihub/KsponSpeech_05...   \n",
       "50699   /Data/etc/Robust_ASR/data/aihub/KsponSpeech_01...   \n",
       "50696   /Data/etc/Robust_ASR/data/aihub/KsponSpeech_01...   \n",
       "453568  /Data/etc/Robust_ASR/data/aihub/KsponSpeech_05...   \n",
       "83579   /Data/etc/Robust_ASR/data/aihub/KsponSpeech_01...   \n",
       "236188  /Data/etc/Robust_ASR/data/aihub/KsponSpeech_03...   \n",
       "14617   /Data/etc/Robust_ASR/data/aihub/KsponSpeech_01...   \n",
       "154601  /Data/etc/Robust_ASR/data/aihub/KsponSpeech_02...   \n",
       "472740  /Data/etc/Robust_ASR/data/aihub/KsponSpeech_05...   \n",
       "382134  /Data/etc/Robust_ASR/data/aihub/KsponSpeech_04...   \n",
       "193780  /Data/etc/Robust_ASR/data/aihub/KsponSpeech_02...   \n",
       "470399  /Data/etc/Robust_ASR/data/aihub/KsponSpeech_05...   \n",
       "14654   /Data/etc/Robust_ASR/data/aihub/KsponSpeech_01...   \n",
       "360012  /Data/etc/Robust_ASR/data/aihub/KsponSpeech_04...   \n",
       "359995  /Data/etc/Robust_ASR/data/aihub/KsponSpeech_04...   \n",
       "193775  /Data/etc/Robust_ASR/data/aihub/KsponSpeech_02...   \n",
       "110605  /Data/etc/Robust_ASR/data/aihub/KsponSpeech_02...   \n",
       "154655  /Data/etc/Robust_ASR/data/aihub/KsponSpeech_02...   \n",
       "393534  /Data/etc/Robust_ASR/data/aihub/KsponSpeech_04...   \n",
       "382136  /Data/etc/Robust_ASR/data/aihub/KsponSpeech_04...   \n",
       "331909  /Data/etc/Robust_ASR/data/aihub/KsponSpeech_04...   \n",
       "224750  /Data/etc/Robust_ASR/data/aihub/KsponSpeech_03...   \n",
       "340423  /Data/etc/Robust_ASR/data/aihub/KsponSpeech_04...   \n",
       "110606  /Data/etc/Robust_ASR/data/aihub/KsponSpeech_02...   \n",
       "362009  /Data/etc/Robust_ASR/data/aihub/KsponSpeech_04...   \n",
       "\n",
       "                                                    label  length  \n",
       "470866  나 진짜 살면서 클럽 한 번은 가보고 싶었거든  약간 로망이잖아 궁금하잖아  가보고...      90  \n",
       "409453  내가 생각하고 있는 전형 이라고 해야 되나  게 아마 내가 알기로는 토플이랑 면접만...      90  \n",
       "129688  다른 사람은 나보다 한 이만 원 더 받아 근데 그 사람들이 받는 이유가  거기 팀장...      90  \n",
       "454527  맨 앞은 구천 원인가 그러고 중간이 만 원인가 그리고 원래 보통 사람들이 선호하는 ...      90  \n",
       "492696  아무튼 같이 뭔가 같이 임무를 맡으면은 걔가 먼저 나서서 해 버려 그래서 내가 할 ...      90  \n",
       "409476  그래 가지고 우리 넷이서 가면은 한 삼 인분 시키고 다 먹고 나서 어 뽂음밥 한 세...      90  \n",
       "478095  수영장 있구 집 한 채를 다 빌리는 거래 근데 방도 많아서  아 그러면 시간 맞는 ...      90  \n",
       "61142   왜 안 취했냐고   몰라 아니 그날 나 안 그래도 감기 걸려서  아 오늘 진짜 컨디...      90  \n",
       "40201   많이 별로인 거 같아 우리 같은 경우도   인터넷엔  얘네 왜 이러냐 얜 싫다 이러...      90  \n",
       "260726  왜냐면 나도 옛날에 새우 먹고 식중독을 걸린 적이 있어가지고  새우 머리가 안 익었...      90  \n",
       "168404  어 그 본인만 힘들지 좀 뭐 어쨌든 청소하는 것도 누구한테 부탁해도 되고 하는데 나...      90  \n",
       "454825  주름진 얼굴에 화장을 해서  나중에 오 오가 돼서 더 지저분해지는 거보다  그대로 ...      90  \n",
       "306282  근데 이게 한도가 작으면 좋드라고 한도가 낮으면 그래도 쓸 때마다 그 한도가 있으니...      90  \n",
       "156582  솔직히 제명이야 나 나 경고 두 번이야 그니까  명시하지 않았지  출석하는 오빠가 ...      90  \n",
       "177704  이번 주는 오늘 쉬고 저번 주는 수요일 날 셨나  자기가 원할 때 셔  그리고 되게...      90  \n",
       "103601  양송이 스프 안에  소보루 가루 있잖아 그런 걸 뿌리면은 이게 부풀어 올라가 주구 ...      90  \n",
       "156680  언니가 항상 애들 밥 주러 올라가더라고 점심시간에 그서   언니 올라가실 거면 내 ...      90  \n",
       "445330  근데 그거 보고 좀 놀랐어 나는  드라마 내용이 쫌 과장됐다고 생각했는데 그거보다 ...      90  \n",
       "259981  그러고   그런 식으로 해서 밴드 음악 그렇게 해서 락 음악으로 갔다가 갑자기 락 ...      90  \n",
       "362152  고기랑 밀가루랑 다 알레르기가 있어서 귀  간지러워하잖아 그래서   진짜 우리는 다...      90  \n",
       "168164  까 예를 들면    그런 거 비슷한 그런 법을 회사에서 일요일 날 출근한 게 원칙이...      90  \n",
       "18398   때 막 한창 할 때도 며칠 전에 할 때도 그냥 친구랑 같이 친구가 저기 일 끝나갖고...      90  \n",
       "102438  그 릴선 그 전기선 연결하고 그래서 아침 가서 한 그거 한 한 시간 반 정도 했나 ...      90  \n",
       "101520  나는 일단 그런 거에 대해서 들어본 적은 없고 그냥 학교에서 제공하는 거 하면은 그...      90  \n",
       "102254  그 띠고 그리고 그때 수주가  쫌 프로모션 이상한 거 쫌 많이 해가지고 갑자기 약간...      90  \n",
       "101632  물론 널 주려고 산 건 아니지마는 내가 안 쓰는 물건이지 그래도  음악 장비긴 하니...      90  \n",
       "81277   간혹가다가 저는 그냥 그런 사람이라고 생각하는데 어떤 사람들 중에서는 저를 괜찮게 ...      90  \n",
       "155680  안 듣지 나는  유튜브 하니깐  유튜브만 보니까  모르겠어 라디오보단 떠빙이 쫌 더...      90  \n",
       "409160  어 그래서 일본 같은 델 가면은 우리나라 사람들이 되게 많잖아  서 사실 해외 왔단...      90  \n",
       "454182  맞아 맞아 어린이 대상이 주고 주로 어린이로 하는 게 제일 길고 근데 성인 발레도 ...      90  \n",
       "...                                                   ...     ...  \n",
       "331956                                                  아       1  \n",
       "118569                                                  어       1  \n",
       "14655                                                   아       1  \n",
       "224687                                                  응       1  \n",
       "255227                                                  한       1  \n",
       "418023                                                  응       1  \n",
       "50699                                                   어       1  \n",
       "50696                                                   왜       1  \n",
       "453568                                                  어       1  \n",
       "83579                                                   응       1  \n",
       "236188                                                  그       1  \n",
       "14617                                                   응       1  \n",
       "154601                                                  음       1  \n",
       "472740                                                  응       1  \n",
       "382134                                                  아       1  \n",
       "193780                                                  아       1  \n",
       "470399                                                  뭐       1  \n",
       "14654                                                   응       1  \n",
       "360012                                                  어       1  \n",
       "359995                                                  왜       1  \n",
       "193775                                                  음       1  \n",
       "110605                                                  응       1  \n",
       "154655                                                  응       1  \n",
       "393534                                                  응       1  \n",
       "382136                                                  예       1  \n",
       "331909                                                  왜       1  \n",
       "224750                                                  어       1  \n",
       "340423                                                  너       1  \n",
       "110606                                                  어       1  \n",
       "362009                                                  응       1  \n",
       "\n",
       "[474650 rows x 3 columns]"
      ]
     },
     "execution_count": 78,
     "metadata": {},
     "output_type": "execute_result"
    }
   ],
   "source": [
    "aihub.sort_values(by='length', ascending=False)"
   ]
  },
  {
   "cell_type": "markdown",
   "metadata": {},
   "source": [
    "## PCM to Wav"
   ]
  },
  {
   "cell_type": "code",
   "execution_count": 82,
   "metadata": {},
   "outputs": [
    {
     "name": "stderr",
     "output_type": "stream",
     "text": [
      "100%|██████████| 474650/474650 [49:28<00:00, 159.88it/s]  \n"
     ]
    }
   ],
   "source": [
    "non_exists={}\n",
    "for idx, row in tqdm(aihub.iterrows(), total= len(aihub)):\n",
    "    pcm_path = row['path']\n",
    "    if os.path.exists(pcm_path):\n",
    "        pcm2wav(pcm_path, pcm_path.replace('PCM', 'wav'))\n",
    "    else:\n",
    "        non_exists[row.name] = pcm_path"
   ]
  },
  {
   "cell_type": "code",
   "execution_count": 85,
   "metadata": {},
   "outputs": [],
   "source": [
    "# aihub.to_csv('./data/csvs/aihub.csv', index=False)"
   ]
  },
  {
   "cell_type": "code",
   "execution_count": 6,
   "metadata": {},
   "outputs": [],
   "source": [
    "aihub = pd.read_csv('./data/csvs/aihub_pcm.csv', names=['path','labels','length'])"
   ]
  },
  {
   "cell_type": "code",
   "execution_count": 105,
   "metadata": {},
   "outputs": [],
   "source": [
    "# aihub['path'] = aihub['path'].apply(lambda x : x.replace('wav', 'pcm'))"
   ]
  },
  {
   "cell_type": "code",
   "execution_count": 7,
   "metadata": {},
   "outputs": [],
   "source": [
    "# aihub['path'] = aihub['path'].apply(lambda x : x.replace('/Data', '/home/Data'))"
   ]
  },
  {
   "cell_type": "code",
   "execution_count": 8,
   "metadata": {},
   "outputs": [],
   "source": [
    "# aihub.to_csv('./data/csvs/aihub.csv', index=False, header=False)\n",
    "# aihub.to_csv('./data/csvs/aihub_pcm.csv', index=False, header=False) # pcm version\n",
    "# aihub.to_csv('./data/csvs/aihub_pcm_180.csv', index=False, header=False)  #pcm for 180 server"
   ]
  },
  {
   "cell_type": "code",
   "execution_count": 35,
   "metadata": {
    "scrolled": true
   },
   "outputs": [
    {
     "data": {
      "text/plain": [
       "'인가 상대방이 짝은 마음만 줘도 만족을 할 수 있다는 건 되게 좋은 일인데 그만큼 나도 상대방한테 연애를 하면서 줄 수 있는 마음이 그 정도 인 거니까  만약 상대방이  뭔가 연애를 하면서 주고받을 수 있는 마음이 크기가 훨씬 더 큰 사람이면  뭔가 너한테 그만큼 많이 줄 수 있겠지만 그만큼 반대로 너가 주는 만큼은 나름 너한텐 최선일진 몰라도 그 사람한텐 턱없이 부족할 수 있는 거잖아  그런 데서부터 마 문제가 생기는 거 같애  근데 이제 막 현덕이랑 너 같은 타입은 약간 그런 연애에서 뭔가 약간  그런 바라는 거나 주고 줄 수 있는 게 제일 적은 그런 거인 거고'"
      ]
     },
     "execution_count": 35,
     "metadata": {},
     "output_type": "execute_result"
    }
   ],
   "source": [
    "aihub_train.loc[22537,'label']"
   ]
  },
  {
   "cell_type": "code",
   "execution_count": 79,
   "metadata": {},
   "outputs": [],
   "source": [
    "pcm2wav(aihub['path'][470866] , 'test.wav')"
   ]
  },
  {
   "cell_type": "markdown",
   "metadata": {},
   "source": [
    "# combine dataset\n",
    "- aihub, hacka 데이터합치기"
   ]
  },
  {
   "cell_type": "code",
   "execution_count": 3,
   "metadata": {},
   "outputs": [],
   "source": [
    "hacka_train = pd.read_csv('./data/csvs/dataset_with_age_train.csv', names = ['path','label','age'])\n",
    "hacka_val = pd.read_csv('./data/csvs/dataset_with_age_val.csv', names = ['path','label','age'])\n",
    "aihub = pd.read_csv('./data/csvs/aihub_manifest.csv', names = ['path','label','age'])"
   ]
  },
  {
   "cell_type": "code",
   "execution_count": 7,
   "metadata": {},
   "outputs": [],
   "source": [
    "hacka_train['path'] = hacka_train['path'].apply(lambda x: x.replace('/Data', '/home/Data'))\n",
    "hacka_val['path'] = hacka_val['path'].apply(lambda x: x.replace('/Data', '/home/Data'))"
   ]
  },
  {
   "cell_type": "code",
   "execution_count": 11,
   "metadata": {},
   "outputs": [],
   "source": [
    "combine = pd.concat([hacka_train, hacka_val, aihub], axis=0, ignore_index=True)"
   ]
  },
  {
   "cell_type": "code",
   "execution_count": 15,
   "metadata": {},
   "outputs": [],
   "source": [
    "combine.to_csv('./data/csvs/combine_180.csv', index=False, header=False)"
   ]
  },
  {
   "cell_type": "code",
   "execution_count": 16,
   "metadata": {},
   "outputs": [],
   "source": [
    "random_idx = np.random.choice(combine.index, size = int(len(combine) * 0.8), replace=False)\n",
    "train_index = np.zeros(len(combine), dtype=bool)\n",
    "train_index[random_idx] = True"
   ]
  },
  {
   "cell_type": "code",
   "execution_count": 17,
   "metadata": {},
   "outputs": [],
   "source": [
    "combine_train = combine[train_index]\n",
    "combine_val = combine[~train_index]"
   ]
  },
  {
   "cell_type": "code",
   "execution_count": 18,
   "metadata": {},
   "outputs": [],
   "source": [
    "combine_train.to_csv('./data/csvs/combine_train_180.csv', index=False, header=False)\n",
    "combine_val.to_csv('./data/csvs/combine_test_180.csv', index=False, header=False)"
   ]
  },
  {
   "cell_type": "code",
   "execution_count": null,
   "metadata": {},
   "outputs": [],
   "source": []
  }
 ],
 "metadata": {
  "kernelspec": {
   "display_name": "Python 3",
   "language": "python",
   "name": "python3"
  },
  "language_info": {
   "codemirror_mode": {
    "name": "ipython",
    "version": 3
   },
   "file_extension": ".py",
   "mimetype": "text/x-python",
   "name": "python",
   "nbconvert_exporter": "python",
   "pygments_lexer": "ipython3",
   "version": "3.6.9"
  }
 },
 "nbformat": 4,
 "nbformat_minor": 2
}
